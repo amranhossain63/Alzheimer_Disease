{
 "cells": [
  {
   "cell_type": "code",
   "execution_count": 1,
   "id": "b786575c",
   "metadata": {},
   "outputs": [],
   "source": [
    "import numpy as np\n",
    "import pandas as pd\n",
    "import matplotlib\n",
    "import matplotlib.pyplot as plt\n",
    "import seaborn as sn\n",
    "\n",
    "from numpy import mean\n",
    "\n",
    "from sklearn import preprocessing\n",
    "from sklearn.metrics import log_loss\n",
    "from sklearn.metrics import confusion_matrix\n",
    "import sklearn.metrics as metrics\n",
    "from sklearn.metrics import plot_confusion_matrix\n",
    "from sklearn.metrics import classification_report\n",
    "\n",
    "from sklearn.model_selection import GridSearchCV, cross_val_score, KFold\n",
    "\n",
    "%matplotlib inline"
   ]
  },
  {
   "cell_type": "markdown",
   "id": "cc4b48d3",
   "metadata": {},
   "source": [
    "#### Load The data files\n",
    "###### Display data frame head"
   ]
  },
  {
   "cell_type": "code",
   "execution_count": 2,
   "id": "ed8e6714",
   "metadata": {},
   "outputs": [
    {
     "data": {
      "text/html": [
       "<div>\n",
       "<style scoped>\n",
       "    .dataframe tbody tr th:only-of-type {\n",
       "        vertical-align: middle;\n",
       "    }\n",
       "\n",
       "    .dataframe tbody tr th {\n",
       "        vertical-align: top;\n",
       "    }\n",
       "\n",
       "    .dataframe thead th {\n",
       "        text-align: right;\n",
       "    }\n",
       "</style>\n",
       "<table border=\"1\" class=\"dataframe\">\n",
       "  <thead>\n",
       "    <tr style=\"text-align: right;\">\n",
       "      <th></th>\n",
       "      <th>Subject ID</th>\n",
       "      <th>MRI ID</th>\n",
       "      <th>Group</th>\n",
       "      <th>Visit</th>\n",
       "      <th>MR Delay</th>\n",
       "      <th>M/F</th>\n",
       "      <th>Hand</th>\n",
       "      <th>Age</th>\n",
       "      <th>EDUC</th>\n",
       "      <th>SES</th>\n",
       "      <th>MMSE</th>\n",
       "      <th>CDR</th>\n",
       "      <th>eTIV</th>\n",
       "      <th>nWBV</th>\n",
       "      <th>ASF</th>\n",
       "    </tr>\n",
       "  </thead>\n",
       "  <tbody>\n",
       "    <tr>\n",
       "      <th>0</th>\n",
       "      <td>OAS2_0001</td>\n",
       "      <td>OAS2_0001_MR1</td>\n",
       "      <td>Nondemented</td>\n",
       "      <td>1</td>\n",
       "      <td>0</td>\n",
       "      <td>M</td>\n",
       "      <td>R</td>\n",
       "      <td>87</td>\n",
       "      <td>14</td>\n",
       "      <td>2.0</td>\n",
       "      <td>27.0</td>\n",
       "      <td>0.0</td>\n",
       "      <td>1986.550000</td>\n",
       "      <td>0.696106</td>\n",
       "      <td>0.883440</td>\n",
       "    </tr>\n",
       "    <tr>\n",
       "      <th>1</th>\n",
       "      <td>OAS2_0001</td>\n",
       "      <td>OAS2_0001_MR2</td>\n",
       "      <td>Nondemented</td>\n",
       "      <td>2</td>\n",
       "      <td>457</td>\n",
       "      <td>M</td>\n",
       "      <td>R</td>\n",
       "      <td>88</td>\n",
       "      <td>14</td>\n",
       "      <td>2.0</td>\n",
       "      <td>30.0</td>\n",
       "      <td>0.0</td>\n",
       "      <td>2004.479526</td>\n",
       "      <td>0.681062</td>\n",
       "      <td>0.875539</td>\n",
       "    </tr>\n",
       "    <tr>\n",
       "      <th>2</th>\n",
       "      <td>OAS2_0002</td>\n",
       "      <td>OAS2_0002_MR1</td>\n",
       "      <td>Demented</td>\n",
       "      <td>1</td>\n",
       "      <td>0</td>\n",
       "      <td>M</td>\n",
       "      <td>R</td>\n",
       "      <td>75</td>\n",
       "      <td>12</td>\n",
       "      <td>NaN</td>\n",
       "      <td>23.0</td>\n",
       "      <td>0.5</td>\n",
       "      <td>1678.290000</td>\n",
       "      <td>0.736336</td>\n",
       "      <td>1.045710</td>\n",
       "    </tr>\n",
       "    <tr>\n",
       "      <th>3</th>\n",
       "      <td>OAS2_0002</td>\n",
       "      <td>OAS2_0002_MR2</td>\n",
       "      <td>Demented</td>\n",
       "      <td>2</td>\n",
       "      <td>560</td>\n",
       "      <td>M</td>\n",
       "      <td>R</td>\n",
       "      <td>76</td>\n",
       "      <td>12</td>\n",
       "      <td>NaN</td>\n",
       "      <td>28.0</td>\n",
       "      <td>0.5</td>\n",
       "      <td>1737.620000</td>\n",
       "      <td>0.713402</td>\n",
       "      <td>1.010000</td>\n",
       "    </tr>\n",
       "    <tr>\n",
       "      <th>4</th>\n",
       "      <td>OAS2_0002</td>\n",
       "      <td>OAS2_0002_MR3</td>\n",
       "      <td>Demented</td>\n",
       "      <td>3</td>\n",
       "      <td>1895</td>\n",
       "      <td>M</td>\n",
       "      <td>R</td>\n",
       "      <td>80</td>\n",
       "      <td>12</td>\n",
       "      <td>NaN</td>\n",
       "      <td>22.0</td>\n",
       "      <td>0.5</td>\n",
       "      <td>1697.911134</td>\n",
       "      <td>0.701236</td>\n",
       "      <td>1.033623</td>\n",
       "    </tr>\n",
       "  </tbody>\n",
       "</table>\n",
       "</div>"
      ],
      "text/plain": [
       "  Subject ID         MRI ID        Group  Visit  MR Delay M/F Hand  Age  EDUC  \\\n",
       "0  OAS2_0001  OAS2_0001_MR1  Nondemented      1         0   M    R   87    14   \n",
       "1  OAS2_0001  OAS2_0001_MR2  Nondemented      2       457   M    R   88    14   \n",
       "2  OAS2_0002  OAS2_0002_MR1     Demented      1         0   M    R   75    12   \n",
       "3  OAS2_0002  OAS2_0002_MR2     Demented      2       560   M    R   76    12   \n",
       "4  OAS2_0002  OAS2_0002_MR3     Demented      3      1895   M    R   80    12   \n",
       "\n",
       "   SES  MMSE  CDR         eTIV      nWBV       ASF  \n",
       "0  2.0  27.0  0.0  1986.550000  0.696106  0.883440  \n",
       "1  2.0  30.0  0.0  2004.479526  0.681062  0.875539  \n",
       "2  NaN  23.0  0.5  1678.290000  0.736336  1.045710  \n",
       "3  NaN  28.0  0.5  1737.620000  0.713402  1.010000  \n",
       "4  NaN  22.0  0.5  1697.911134  0.701236  1.033623  "
      ]
     },
     "execution_count": 2,
     "metadata": {},
     "output_type": "execute_result"
    }
   ],
   "source": [
    "data_frame = pd.read_excel('C:/Users/amran/Downloads/oasis_longitudinal_demographics.xlsx')\n",
    "\n",
    "data_frame.head() "
   ]
  },
  {
   "cell_type": "markdown",
   "id": "5fe9e5d6",
   "metadata": {},
   "source": [
    "#### Data pre-processing and selection"
   ]
  },
  {
   "cell_type": "markdown",
   "id": "7d0affb1",
   "metadata": {},
   "source": [
    "Lets first look at columns data types"
   ]
  },
  {
   "cell_type": "code",
   "execution_count": 3,
   "id": "06d04a7e",
   "metadata": {},
   "outputs": [
    {
     "data": {
      "text/plain": [
       "Subject ID     object\n",
       "MRI ID         object\n",
       "Group          object\n",
       "Visit           int64\n",
       "MR Delay        int64\n",
       "M/F            object\n",
       "Hand           object\n",
       "Age             int64\n",
       "EDUC            int64\n",
       "SES           float64\n",
       "MMSE          float64\n",
       "CDR           float64\n",
       "eTIV          float64\n",
       "nWBV          float64\n",
       "ASF           float64\n",
       "dtype: object"
      ]
     },
     "execution_count": 3,
     "metadata": {},
     "output_type": "execute_result"
    }
   ],
   "source": [
    "data_frame.dtypes"
   ]
  },
  {
   "cell_type": "code",
   "execution_count": 4,
   "id": "2a01c266",
   "metadata": {},
   "outputs": [
    {
     "name": "stdout",
     "output_type": "stream",
     "text": [
      "<class 'pandas.core.frame.DataFrame'>\n",
      "RangeIndex: 373 entries, 0 to 372\n",
      "Data columns (total 15 columns):\n",
      " #   Column      Non-Null Count  Dtype  \n",
      "---  ------      --------------  -----  \n",
      " 0   Subject ID  373 non-null    object \n",
      " 1   MRI ID      373 non-null    object \n",
      " 2   Group       373 non-null    object \n",
      " 3   Visit       373 non-null    int64  \n",
      " 4   MR Delay    373 non-null    int64  \n",
      " 5   M/F         373 non-null    object \n",
      " 6   Hand        373 non-null    object \n",
      " 7   Age         373 non-null    int64  \n",
      " 8   EDUC        373 non-null    int64  \n",
      " 9   SES         354 non-null    float64\n",
      " 10  MMSE        371 non-null    float64\n",
      " 11  CDR         373 non-null    float64\n",
      " 12  eTIV        373 non-null    float64\n",
      " 13  nWBV        373 non-null    float64\n",
      " 14  ASF         373 non-null    float64\n",
      "dtypes: float64(6), int64(4), object(5)\n",
      "memory usage: 43.8+ KB\n"
     ]
    }
   ],
   "source": [
    "data_frame.info()"
   ]
  },
  {
   "cell_type": "code",
   "execution_count": 5,
   "id": "2777ee02",
   "metadata": {},
   "outputs": [
    {
     "data": {
      "image/png": "[encoded data removed]",
      "text/plain": [
       "<Figure size 2160x1080 with 10 Axes>"
      ]
     },
     "metadata": {
      "needs_background": "light"
     },
     "output_type": "display_data"
    }
   ],
   "source": [
    "fig,axs = plt.subplots(2,5,figsize =(30,15))\n",
    "boxplot_mrdelay = data_frame.boxplot(column=['MR Delay'], rot=15, widths=.5,fontsize=15,color = 'red',ax=axs[0,0])\n",
    "boxplot_visit =data_frame.boxplot(column=['Visit'], rot=15, fontsize=15,widths=.5,color = 'blue',ax=axs[0,1])\n",
    "boxplot_Age =data_frame.boxplot(column=['Age'], rot=15, fontsize=15,widths=.5,color = 'green',ax=axs[0,2])\n",
    "boxplot_EDUC = data_frame.boxplot(column=['EDUC'], rot=15, fontsize=15,widths=.5,color = 'magenta',ax=axs[0,3])\n",
    "boxplot_SES = data_frame.boxplot(column=['SES'], rot=15, fontsize=15,widths=.5,color = 'maroon',ax=axs[0,4])\n",
    "boxplot_MMSE = data_frame.boxplot(column=['MMSE'], rot=15, fontsize=15,widths=.5,color = 'lime',ax=axs[1,0])\n",
    "boxplot_CDR = data_frame.boxplot(column=['CDR'], rot=15, fontsize=15,widths=.5,color = 'brown',ax=axs[1,1])\n",
    "boxplot_eTIV = data_frame.boxplot(column=['eTIV'], rot=15, fontsize=15,widths=.5,color = 'crimson',ax=axs[1,2])\n",
    "boxplot_nWBV = data_frame.boxplot(column=['nWBV'], rot=15, fontsize=15,widths=.5,color = 'hotpink',ax=axs[1,3])\n",
    "boxplot_ASF = data_frame.boxplot(column=['ASF'], rot=15, fontsize=15,widths=.5,color = 'purple',ax=axs[1,4])\n",
    "\n",
    "\n",
    "plt.show()"
   ]
  },
  {
   "cell_type": "markdown",
   "id": "512c5a00",
   "metadata": {},
   "source": [
    "#### Histogram"
   ]
  },
  {
   "cell_type": "code",
   "execution_count": 6,
   "id": "30290255",
   "metadata": {},
   "outputs": [
    {
     "data": {
      "text/plain": [
       "array([[<AxesSubplot:title={'center':'Visit'}>,\n",
       "        <AxesSubplot:title={'center':'MR Delay'}>,\n",
       "        <AxesSubplot:title={'center':'Age'}>],\n",
       "       [<AxesSubplot:title={'center':'EDUC'}>,\n",
       "        <AxesSubplot:title={'center':'SES'}>,\n",
       "        <AxesSubplot:title={'center':'MMSE'}>],\n",
       "       [<AxesSubplot:title={'center':'CDR'}>,\n",
       "        <AxesSubplot:title={'center':'eTIV'}>,\n",
       "        <AxesSubplot:title={'center':'nWBV'}>],\n",
       "       [<AxesSubplot:title={'center':'ASF'}>, <AxesSubplot:>,\n",
       "        <AxesSubplot:>]], dtype=object)"
      ]
     },
     "execution_count": 6,
     "metadata": {},
     "output_type": "execute_result"
    },
    {
     "data": {
      "image/png": "[encoded data removed]",
      "text/plain": [
       "<Figure size 1008x720 with 12 Axes>"
      ]
     },
     "metadata": {
      "needs_background": "light"
     },
     "output_type": "display_data"
    }
   ],
   "source": [
    "data_frame.hist(figsize =(14,10))"
   ]
  },
  {
   "cell_type": "markdown",
   "id": "a7ae83e5",
   "metadata": {},
   "source": [
    "#### Correlation Heatmap"
   ]
  },
  {
   "cell_type": "code",
   "execution_count": 7,
   "id": "37959e74",
   "metadata": {},
   "outputs": [
    {
     "data": {
      "text/plain": [
       "<AxesSubplot:>"
      ]
     },
     "execution_count": 7,
     "metadata": {},
     "output_type": "execute_result"
    },
    {
     "data": {
      "image/png": "[encoded data removed]",
      "text/plain": [
       "<Figure size 1008x720 with 2 Axes>"
      ]
     },
     "metadata": {
      "needs_background": "light"
     },
     "output_type": "display_data"
    }
   ],
   "source": [
    "import matplotlib.pyplot as plt\n",
    "import seaborn as sns\n",
    "\n",
    "plt.figure(figsize = (14,10))\n",
    "\n",
    "sns.heatmap(data_frame[data_frame.columns].corr(), annot=True)"
   ]
  },
  {
   "cell_type": "markdown",
   "id": "f15096a5",
   "metadata": {},
   "source": [
    "#### Dealing the missing values"
   ]
  },
  {
   "cell_type": "code",
   "execution_count": 8,
   "id": "778b73e1",
   "metadata": {
    "scrolled": true
   },
   "outputs": [
    {
     "data": {
      "text/html": [
       "<div>\n",
       "<style scoped>\n",
       "    .dataframe tbody tr th:only-of-type {\n",
       "        vertical-align: middle;\n",
       "    }\n",
       "\n",
       "    .dataframe tbody tr th {\n",
       "        vertical-align: top;\n",
       "    }\n",
       "\n",
       "    .dataframe thead th {\n",
       "        text-align: right;\n",
       "    }\n",
       "</style>\n",
       "<table border=\"1\" class=\"dataframe\">\n",
       "  <thead>\n",
       "    <tr style=\"text-align: right;\">\n",
       "      <th></th>\n",
       "      <th>Subject ID</th>\n",
       "      <th>MRI ID</th>\n",
       "      <th>Group</th>\n",
       "      <th>Visit</th>\n",
       "      <th>MR Delay</th>\n",
       "      <th>M/F</th>\n",
       "      <th>Hand</th>\n",
       "      <th>Age</th>\n",
       "      <th>EDUC</th>\n",
       "      <th>SES</th>\n",
       "      <th>MMSE</th>\n",
       "      <th>CDR</th>\n",
       "      <th>eTIV</th>\n",
       "      <th>nWBV</th>\n",
       "      <th>ASF</th>\n",
       "    </tr>\n",
       "  </thead>\n",
       "  <tbody>\n",
       "    <tr>\n",
       "      <th>0</th>\n",
       "      <td>False</td>\n",
       "      <td>False</td>\n",
       "      <td>False</td>\n",
       "      <td>False</td>\n",
       "      <td>False</td>\n",
       "      <td>False</td>\n",
       "      <td>False</td>\n",
       "      <td>False</td>\n",
       "      <td>False</td>\n",
       "      <td>False</td>\n",
       "      <td>False</td>\n",
       "      <td>False</td>\n",
       "      <td>False</td>\n",
       "      <td>False</td>\n",
       "      <td>False</td>\n",
       "    </tr>\n",
       "    <tr>\n",
       "      <th>1</th>\n",
       "      <td>False</td>\n",
       "      <td>False</td>\n",
       "      <td>False</td>\n",
       "      <td>False</td>\n",
       "      <td>False</td>\n",
       "      <td>False</td>\n",
       "      <td>False</td>\n",
       "      <td>False</td>\n",
       "      <td>False</td>\n",
       "      <td>False</td>\n",
       "      <td>False</td>\n",
       "      <td>False</td>\n",
       "      <td>False</td>\n",
       "      <td>False</td>\n",
       "      <td>False</td>\n",
       "    </tr>\n",
       "    <tr>\n",
       "      <th>2</th>\n",
       "      <td>False</td>\n",
       "      <td>False</td>\n",
       "      <td>False</td>\n",
       "      <td>False</td>\n",
       "      <td>False</td>\n",
       "      <td>False</td>\n",
       "      <td>False</td>\n",
       "      <td>False</td>\n",
       "      <td>False</td>\n",
       "      <td>True</td>\n",
       "      <td>False</td>\n",
       "      <td>False</td>\n",
       "      <td>False</td>\n",
       "      <td>False</td>\n",
       "      <td>False</td>\n",
       "    </tr>\n",
       "    <tr>\n",
       "      <th>3</th>\n",
       "      <td>False</td>\n",
       "      <td>False</td>\n",
       "      <td>False</td>\n",
       "      <td>False</td>\n",
       "      <td>False</td>\n",
       "      <td>False</td>\n",
       "      <td>False</td>\n",
       "      <td>False</td>\n",
       "      <td>False</td>\n",
       "      <td>True</td>\n",
       "      <td>False</td>\n",
       "      <td>False</td>\n",
       "      <td>False</td>\n",
       "      <td>False</td>\n",
       "      <td>False</td>\n",
       "    </tr>\n",
       "    <tr>\n",
       "      <th>4</th>\n",
       "      <td>False</td>\n",
       "      <td>False</td>\n",
       "      <td>False</td>\n",
       "      <td>False</td>\n",
       "      <td>False</td>\n",
       "      <td>False</td>\n",
       "      <td>False</td>\n",
       "      <td>False</td>\n",
       "      <td>False</td>\n",
       "      <td>True</td>\n",
       "      <td>False</td>\n",
       "      <td>False</td>\n",
       "      <td>False</td>\n",
       "      <td>False</td>\n",
       "      <td>False</td>\n",
       "    </tr>\n",
       "  </tbody>\n",
       "</table>\n",
       "</div>"
      ],
      "text/plain": [
       "   Subject ID  MRI ID  Group  Visit  MR Delay    M/F   Hand    Age   EDUC  \\\n",
       "0       False   False  False  False     False  False  False  False  False   \n",
       "1       False   False  False  False     False  False  False  False  False   \n",
       "2       False   False  False  False     False  False  False  False  False   \n",
       "3       False   False  False  False     False  False  False  False  False   \n",
       "4       False   False  False  False     False  False  False  False  False   \n",
       "\n",
       "     SES   MMSE    CDR   eTIV   nWBV    ASF  \n",
       "0  False  False  False  False  False  False  \n",
       "1  False  False  False  False  False  False  \n",
       "2   True  False  False  False  False  False  \n",
       "3   True  False  False  False  False  False  \n",
       "4   True  False  False  False  False  False  "
      ]
     },
     "execution_count": 8,
     "metadata": {},
     "output_type": "execute_result"
    }
   ],
   "source": [
    "missing_data = data_frame.isnull()\n",
    "missing_data.head()"
   ]
  },
  {
   "cell_type": "markdown",
   "id": "90c4cac2",
   "metadata": {},
   "source": [
    "Count missing values in each column"
   ]
  },
  {
   "cell_type": "code",
   "execution_count": 9,
   "id": "e9fcd261",
   "metadata": {},
   "outputs": [
    {
     "name": "stdout",
     "output_type": "stream",
     "text": [
      "Subject ID\n",
      "False    373\n",
      "Name: Subject ID, dtype: int64\n",
      " \n",
      "MRI ID\n",
      "False    373\n",
      "Name: MRI ID, dtype: int64\n",
      " \n",
      "Group\n",
      "False    373\n",
      "Name: Group, dtype: int64\n",
      " \n",
      "Visit\n",
      "False    373\n",
      "Name: Visit, dtype: int64\n",
      " \n",
      "MR Delay\n",
      "False    373\n",
      "Name: MR Delay, dtype: int64\n",
      " \n",
      "M/F\n",
      "False    373\n",
      "Name: M/F, dtype: int64\n",
      " \n",
      "Hand\n",
      "False    373\n",
      "Name: Hand, dtype: int64\n",
      " \n",
      "Age\n",
      "False    373\n",
      "Name: Age, dtype: int64\n",
      " \n",
      "EDUC\n",
      "False    373\n",
      "Name: EDUC, dtype: int64\n",
      " \n",
      "SES\n",
      "False    354\n",
      "True      19\n",
      "Name: SES, dtype: int64\n",
      " \n",
      "MMSE\n",
      "False    371\n",
      "True       2\n",
      "Name: MMSE, dtype: int64\n",
      " \n",
      "CDR\n",
      "False    373\n",
      "Name: CDR, dtype: int64\n",
      " \n",
      "eTIV\n",
      "False    373\n",
      "Name: eTIV, dtype: int64\n",
      " \n",
      "nWBV\n",
      "False    373\n",
      "Name: nWBV, dtype: int64\n",
      " \n",
      "ASF\n",
      "False    373\n",
      "Name: ASF, dtype: int64\n",
      " \n"
     ]
    }
   ],
   "source": [
    "for column in missing_data.columns.values.tolist():\n",
    "    print(column)\n",
    "    print(missing_data[column].value_counts())\n",
    "    print(\" \")"
   ]
  },
  {
   "cell_type": "raw",
   "id": "f7981d5d",
   "metadata": {},
   "source": [
    "\n",
    "SES have 19 missing value and MMSE have 2 missing Value \n",
    "replace missing values "
   ]
  },
  {
   "cell_type": "code",
   "execution_count": 10,
   "id": "48e3c3d5",
   "metadata": {},
   "outputs": [
    {
     "data": {
      "text/plain": [
       "2.0    103\n",
       "1.0     88\n",
       "3.0     82\n",
       "4.0     74\n",
       "5.0      7\n",
       "Name: SES, dtype: int64"
      ]
     },
     "execution_count": 10,
     "metadata": {},
     "output_type": "execute_result"
    }
   ],
   "source": [
    "# check the details value of SES\n",
    "data_frame['SES'].value_counts()"
   ]
  },
  {
   "cell_type": "code",
   "execution_count": 11,
   "id": "ffdf8905",
   "metadata": {},
   "outputs": [
    {
     "data": {
      "text/plain": [
       "2.0"
      ]
     },
     "execution_count": 11,
     "metadata": {},
     "output_type": "execute_result"
    }
   ],
   "source": [
    "#Here 2 is most common values. use the \".idxmax()\" method to calculate for us the most common type automatically:\n",
    "\n",
    "data_frame['SES'].value_counts().idxmax() "
   ]
  },
  {
   "cell_type": "code",
   "execution_count": 12,
   "id": "773a811f",
   "metadata": {},
   "outputs": [],
   "source": [
    "#replace null with most common values\n",
    "data_frame['SES'].fillna(2.0, inplace=True)"
   ]
  },
  {
   "cell_type": "code",
   "execution_count": 13,
   "id": "57a557d2",
   "metadata": {},
   "outputs": [
    {
     "data": {
      "text/plain": [
       "30.0    114\n",
       "29.0     91\n",
       "28.0     45\n",
       "27.0     32\n",
       "26.0     20\n",
       "25.0     12\n",
       "23.0     11\n",
       "21.0     11\n",
       "20.0      7\n",
       "22.0      7\n",
       "17.0      5\n",
       "24.0      4\n",
       "16.0      3\n",
       "19.0      3\n",
       "18.0      2\n",
       "15.0      2\n",
       "7.0       1\n",
       "4.0       1\n",
       "Name: MMSE, dtype: int64"
      ]
     },
     "execution_count": 13,
     "metadata": {},
     "output_type": "execute_result"
    }
   ],
   "source": [
    "#check the details value of MMSE\n",
    "data_frame['MMSE'].value_counts()"
   ]
  },
  {
   "cell_type": "code",
   "execution_count": 14,
   "id": "183f0dec",
   "metadata": {},
   "outputs": [
    {
     "data": {
      "text/plain": [
       "30.0"
      ]
     },
     "execution_count": 14,
     "metadata": {},
     "output_type": "execute_result"
    }
   ],
   "source": [
    "#30 is the most common value. We can also use the \".idxmax()\" method to calculate for us the most common type automatically:\n",
    "data_frame['MMSE'].value_counts().idxmax()"
   ]
  },
  {
   "cell_type": "code",
   "execution_count": 15,
   "id": "b03bd828",
   "metadata": {},
   "outputs": [],
   "source": [
    "#replace null with most common values\n",
    "data_frame['MMSE'].fillna(30,inplace=True)"
   ]
  },
  {
   "cell_type": "code",
   "execution_count": 16,
   "id": "6e9f2022",
   "metadata": {
    "scrolled": true
   },
   "outputs": [
    {
     "data": {
      "text/html": [
       "<div>\n",
       "<style scoped>\n",
       "    .dataframe tbody tr th:only-of-type {\n",
       "        vertical-align: middle;\n",
       "    }\n",
       "\n",
       "    .dataframe tbody tr th {\n",
       "        vertical-align: top;\n",
       "    }\n",
       "\n",
       "    .dataframe thead th {\n",
       "        text-align: right;\n",
       "    }\n",
       "</style>\n",
       "<table border=\"1\" class=\"dataframe\">\n",
       "  <thead>\n",
       "    <tr style=\"text-align: right;\">\n",
       "      <th></th>\n",
       "      <th>Subject ID</th>\n",
       "      <th>MRI ID</th>\n",
       "      <th>Group</th>\n",
       "      <th>Visit</th>\n",
       "      <th>MR Delay</th>\n",
       "      <th>M/F</th>\n",
       "      <th>Hand</th>\n",
       "      <th>Age</th>\n",
       "      <th>EDUC</th>\n",
       "      <th>SES</th>\n",
       "      <th>MMSE</th>\n",
       "      <th>CDR</th>\n",
       "      <th>eTIV</th>\n",
       "      <th>nWBV</th>\n",
       "      <th>ASF</th>\n",
       "    </tr>\n",
       "  </thead>\n",
       "  <tbody>\n",
       "    <tr>\n",
       "      <th>0</th>\n",
       "      <td>False</td>\n",
       "      <td>False</td>\n",
       "      <td>False</td>\n",
       "      <td>False</td>\n",
       "      <td>False</td>\n",
       "      <td>False</td>\n",
       "      <td>False</td>\n",
       "      <td>False</td>\n",
       "      <td>False</td>\n",
       "      <td>False</td>\n",
       "      <td>False</td>\n",
       "      <td>False</td>\n",
       "      <td>False</td>\n",
       "      <td>False</td>\n",
       "      <td>False</td>\n",
       "    </tr>\n",
       "    <tr>\n",
       "      <th>1</th>\n",
       "      <td>False</td>\n",
       "      <td>False</td>\n",
       "      <td>False</td>\n",
       "      <td>False</td>\n",
       "      <td>False</td>\n",
       "      <td>False</td>\n",
       "      <td>False</td>\n",
       "      <td>False</td>\n",
       "      <td>False</td>\n",
       "      <td>False</td>\n",
       "      <td>False</td>\n",
       "      <td>False</td>\n",
       "      <td>False</td>\n",
       "      <td>False</td>\n",
       "      <td>False</td>\n",
       "    </tr>\n",
       "    <tr>\n",
       "      <th>2</th>\n",
       "      <td>False</td>\n",
       "      <td>False</td>\n",
       "      <td>False</td>\n",
       "      <td>False</td>\n",
       "      <td>False</td>\n",
       "      <td>False</td>\n",
       "      <td>False</td>\n",
       "      <td>False</td>\n",
       "      <td>False</td>\n",
       "      <td>False</td>\n",
       "      <td>False</td>\n",
       "      <td>False</td>\n",
       "      <td>False</td>\n",
       "      <td>False</td>\n",
       "      <td>False</td>\n",
       "    </tr>\n",
       "    <tr>\n",
       "      <th>3</th>\n",
       "      <td>False</td>\n",
       "      <td>False</td>\n",
       "      <td>False</td>\n",
       "      <td>False</td>\n",
       "      <td>False</td>\n",
       "      <td>False</td>\n",
       "      <td>False</td>\n",
       "      <td>False</td>\n",
       "      <td>False</td>\n",
       "      <td>False</td>\n",
       "      <td>False</td>\n",
       "      <td>False</td>\n",
       "      <td>False</td>\n",
       "      <td>False</td>\n",
       "      <td>False</td>\n",
       "    </tr>\n",
       "    <tr>\n",
       "      <th>4</th>\n",
       "      <td>False</td>\n",
       "      <td>False</td>\n",
       "      <td>False</td>\n",
       "      <td>False</td>\n",
       "      <td>False</td>\n",
       "      <td>False</td>\n",
       "      <td>False</td>\n",
       "      <td>False</td>\n",
       "      <td>False</td>\n",
       "      <td>False</td>\n",
       "      <td>False</td>\n",
       "      <td>False</td>\n",
       "      <td>False</td>\n",
       "      <td>False</td>\n",
       "      <td>False</td>\n",
       "    </tr>\n",
       "  </tbody>\n",
       "</table>\n",
       "</div>"
      ],
      "text/plain": [
       "   Subject ID  MRI ID  Group  Visit  MR Delay    M/F   Hand    Age   EDUC  \\\n",
       "0       False   False  False  False     False  False  False  False  False   \n",
       "1       False   False  False  False     False  False  False  False  False   \n",
       "2       False   False  False  False     False  False  False  False  False   \n",
       "3       False   False  False  False     False  False  False  False  False   \n",
       "4       False   False  False  False     False  False  False  False  False   \n",
       "\n",
       "     SES   MMSE    CDR   eTIV   nWBV    ASF  \n",
       "0  False  False  False  False  False  False  \n",
       "1  False  False  False  False  False  False  \n",
       "2  False  False  False  False  False  False  \n",
       "3  False  False  False  False  False  False  \n",
       "4  False  False  False  False  False  False  "
      ]
     },
     "execution_count": 16,
     "metadata": {},
     "output_type": "execute_result"
    }
   ],
   "source": [
    "missing_data = data_frame.isnull()\n",
    "missing_data.head()\n"
   ]
  },
  {
   "cell_type": "code",
   "execution_count": 17,
   "id": "1b817ea7",
   "metadata": {},
   "outputs": [
    {
     "name": "stdout",
     "output_type": "stream",
     "text": [
      "<class 'pandas.core.frame.DataFrame'>\n",
      "RangeIndex: 373 entries, 0 to 372\n",
      "Data columns (total 15 columns):\n",
      " #   Column      Non-Null Count  Dtype\n",
      "---  ------      --------------  -----\n",
      " 0   Subject ID  373 non-null    bool \n",
      " 1   MRI ID      373 non-null    bool \n",
      " 2   Group       373 non-null    bool \n",
      " 3   Visit       373 non-null    bool \n",
      " 4   MR Delay    373 non-null    bool \n",
      " 5   M/F         373 non-null    bool \n",
      " 6   Hand        373 non-null    bool \n",
      " 7   Age         373 non-null    bool \n",
      " 8   EDUC        373 non-null    bool \n",
      " 9   SES         373 non-null    bool \n",
      " 10  MMSE        373 non-null    bool \n",
      " 11  CDR         373 non-null    bool \n",
      " 12  eTIV        373 non-null    bool \n",
      " 13  nWBV        373 non-null    bool \n",
      " 14  ASF         373 non-null    bool \n",
      "dtypes: bool(15)\n",
      "memory usage: 5.6 KB\n"
     ]
    }
   ],
   "source": [
    "missing_data.info()"
   ]
  },
  {
   "cell_type": "code",
   "execution_count": 18,
   "id": "b879a7d3",
   "metadata": {},
   "outputs": [
    {
     "name": "stdout",
     "output_type": "stream",
     "text": [
      "Subject ID\n",
      "False    373\n",
      "Name: Subject ID, dtype: int64\n",
      " \n",
      "MRI ID\n",
      "False    373\n",
      "Name: MRI ID, dtype: int64\n",
      " \n",
      "Group\n",
      "False    373\n",
      "Name: Group, dtype: int64\n",
      " \n",
      "Visit\n",
      "False    373\n",
      "Name: Visit, dtype: int64\n",
      " \n",
      "MR Delay\n",
      "False    373\n",
      "Name: MR Delay, dtype: int64\n",
      " \n",
      "M/F\n",
      "False    373\n",
      "Name: M/F, dtype: int64\n",
      " \n",
      "Hand\n",
      "False    373\n",
      "Name: Hand, dtype: int64\n",
      " \n",
      "Age\n",
      "False    373\n",
      "Name: Age, dtype: int64\n",
      " \n",
      "EDUC\n",
      "False    373\n",
      "Name: EDUC, dtype: int64\n",
      " \n",
      "SES\n",
      "False    373\n",
      "Name: SES, dtype: int64\n",
      " \n",
      "MMSE\n",
      "False    373\n",
      "Name: MMSE, dtype: int64\n",
      " \n",
      "CDR\n",
      "False    373\n",
      "Name: CDR, dtype: int64\n",
      " \n",
      "eTIV\n",
      "False    373\n",
      "Name: eTIV, dtype: int64\n",
      " \n",
      "nWBV\n",
      "False    373\n",
      "Name: nWBV, dtype: int64\n",
      " \n",
      "ASF\n",
      "False    373\n",
      "Name: ASF, dtype: int64\n",
      " \n"
     ]
    }
   ],
   "source": [
    "for column in missing_data.columns.values.tolist():\n",
    "    print(column)\n",
    "    print(missing_data[column].value_counts())\n",
    "    print(\" \")"
   ]
  },
  {
   "cell_type": "markdown",
   "id": "33ad1759",
   "metadata": {},
   "source": [
    "Let’s see how many of each class is in our data set"
   ]
  },
  {
   "cell_type": "code",
   "execution_count": 19,
   "id": "a929a8a1",
   "metadata": {},
   "outputs": [
    {
     "data": {
      "text/plain": [
       "OAS2_0048    5\n",
       "OAS2_0073    5\n",
       "OAS2_0070    5\n",
       "OAS2_0127    5\n",
       "OAS2_0036    4\n",
       "            ..\n",
       "OAS2_0124    2\n",
       "OAS2_0146    2\n",
       "OAS2_0063    2\n",
       "OAS2_0138    2\n",
       "OAS2_0042    2\n",
       "Name: Subject ID, Length: 150, dtype: int64"
      ]
     },
     "execution_count": 19,
     "metadata": {},
     "output_type": "execute_result"
    }
   ],
   "source": [
    "data_frame['Subject ID'].value_counts()"
   ]
  },
  {
   "cell_type": "code",
   "execution_count": 20,
   "id": "d76ead44",
   "metadata": {},
   "outputs": [
    {
     "data": {
      "text/plain": [
       "150"
      ]
     },
     "execution_count": 20,
     "metadata": {},
     "output_type": "execute_result"
    }
   ],
   "source": [
    "# check the total number of subject\n",
    "data_frame['Subject ID'].nunique()"
   ]
  },
  {
   "cell_type": "code",
   "execution_count": 21,
   "id": "beee887c",
   "metadata": {},
   "outputs": [
    {
     "data": {
      "text/plain": [
       "Nondemented    190\n",
       "Demented       146\n",
       "Converted       37\n",
       "Name: Group, dtype: int64"
      ]
     },
     "execution_count": 21,
     "metadata": {},
     "output_type": "execute_result"
    }
   ],
   "source": [
    "data_frame['Group'].value_counts()"
   ]
  },
  {
   "cell_type": "markdown",
   "id": "7813d36b",
   "metadata": {},
   "source": [
    "#### Check for male and female"
   ]
  },
  {
   "cell_type": "code",
   "execution_count": 22,
   "id": "36a8dbe6",
   "metadata": {},
   "outputs": [
    {
     "data": {
      "text/plain": [
       "M/F  Group      \n",
       "F    Converted      10\n",
       "     Demented       28\n",
       "     Nondemented    50\n",
       "M    Converted       4\n",
       "     Demented       36\n",
       "     Nondemented    22\n",
       "Name: Subject ID, dtype: int64"
      ]
     },
     "execution_count": 22,
     "metadata": {},
     "output_type": "execute_result"
    }
   ],
   "source": [
    "data_frame.groupby(['M/F','Group'])['Subject ID'].nunique()"
   ]
  },
  {
   "cell_type": "markdown",
   "id": "b263dd68",
   "metadata": {},
   "source": [
    "#### Group by Male female and Subject ID"
   ]
  },
  {
   "cell_type": "code",
   "execution_count": 23,
   "id": "8a9292a8",
   "metadata": {},
   "outputs": [],
   "source": [
    "data_frame_sub =data_frame.groupby(['M/F','Group'])"
   ]
  },
  {
   "cell_type": "code",
   "execution_count": 24,
   "id": "9fed743e",
   "metadata": {},
   "outputs": [],
   "source": [
    "data_frame_sub= data_frame_sub.agg({'Subject ID':'nunique'})"
   ]
  },
  {
   "cell_type": "code",
   "execution_count": 25,
   "id": "0a6ce322",
   "metadata": {},
   "outputs": [
    {
     "data": {
      "text/html": [
       "<div>\n",
       "<style scoped>\n",
       "    .dataframe tbody tr th:only-of-type {\n",
       "        vertical-align: middle;\n",
       "    }\n",
       "\n",
       "    .dataframe tbody tr th {\n",
       "        vertical-align: top;\n",
       "    }\n",
       "\n",
       "    .dataframe thead th {\n",
       "        text-align: right;\n",
       "    }\n",
       "</style>\n",
       "<table border=\"1\" class=\"dataframe\">\n",
       "  <thead>\n",
       "    <tr style=\"text-align: right;\">\n",
       "      <th></th>\n",
       "      <th></th>\n",
       "      <th>Subject ID</th>\n",
       "    </tr>\n",
       "    <tr>\n",
       "      <th>M/F</th>\n",
       "      <th>Group</th>\n",
       "      <th></th>\n",
       "    </tr>\n",
       "  </thead>\n",
       "  <tbody>\n",
       "    <tr>\n",
       "      <th rowspan=\"3\" valign=\"top\">F</th>\n",
       "      <th>Converted</th>\n",
       "      <td>10</td>\n",
       "    </tr>\n",
       "    <tr>\n",
       "      <th>Demented</th>\n",
       "      <td>28</td>\n",
       "    </tr>\n",
       "    <tr>\n",
       "      <th>Nondemented</th>\n",
       "      <td>50</td>\n",
       "    </tr>\n",
       "    <tr>\n",
       "      <th rowspan=\"2\" valign=\"top\">M</th>\n",
       "      <th>Converted</th>\n",
       "      <td>4</td>\n",
       "    </tr>\n",
       "    <tr>\n",
       "      <th>Demented</th>\n",
       "      <td>36</td>\n",
       "    </tr>\n",
       "  </tbody>\n",
       "</table>\n",
       "</div>"
      ],
      "text/plain": [
       "                 Subject ID\n",
       "M/F Group                  \n",
       "F   Converted            10\n",
       "    Demented             28\n",
       "    Nondemented          50\n",
       "M   Converted             4\n",
       "    Demented             36"
      ]
     },
     "execution_count": 25,
     "metadata": {},
     "output_type": "execute_result"
    }
   ],
   "source": [
    "data_frame_sub.head()"
   ]
  },
  {
   "cell_type": "code",
   "execution_count": 26,
   "id": "1f59d52d",
   "metadata": {},
   "outputs": [],
   "source": [
    "# Change M to 1 and F to 0\n",
    "data_frame['M/F'] = data_frame['M/F'].replace(['F','M'], [0,1]) "
   ]
  },
  {
   "cell_type": "code",
   "execution_count": 27,
   "id": "f3546fc2",
   "metadata": {},
   "outputs": [],
   "source": [
    "# Hand cloumn value to numaric data R to 1 and L to 0\n",
    "data_frame['Hand'] = data_frame['Hand'].replace(['L','R'], [0,1]) # Hand column"
   ]
  },
  {
   "cell_type": "code",
   "execution_count": 28,
   "id": "ffb74eb5",
   "metadata": {},
   "outputs": [],
   "source": [
    "# Group :Replace Converted to Demented\n",
    "data_frame['Group'] = data_frame['Group'].replace(['Converted'], ['Demented'])"
   ]
  },
  {
   "cell_type": "code",
   "execution_count": 29,
   "id": "f3c637bf",
   "metadata": {},
   "outputs": [
    {
     "data": {
      "text/html": [
       "<div>\n",
       "<style scoped>\n",
       "    .dataframe tbody tr th:only-of-type {\n",
       "        vertical-align: middle;\n",
       "    }\n",
       "\n",
       "    .dataframe tbody tr th {\n",
       "        vertical-align: top;\n",
       "    }\n",
       "\n",
       "    .dataframe thead th {\n",
       "        text-align: right;\n",
       "    }\n",
       "</style>\n",
       "<table border=\"1\" class=\"dataframe\">\n",
       "  <thead>\n",
       "    <tr style=\"text-align: right;\">\n",
       "      <th></th>\n",
       "      <th>Subject ID</th>\n",
       "      <th>MRI ID</th>\n",
       "      <th>Group</th>\n",
       "      <th>Visit</th>\n",
       "      <th>MR Delay</th>\n",
       "      <th>M/F</th>\n",
       "      <th>Hand</th>\n",
       "      <th>Age</th>\n",
       "      <th>EDUC</th>\n",
       "      <th>SES</th>\n",
       "      <th>MMSE</th>\n",
       "      <th>CDR</th>\n",
       "      <th>eTIV</th>\n",
       "      <th>nWBV</th>\n",
       "      <th>ASF</th>\n",
       "    </tr>\n",
       "  </thead>\n",
       "  <tbody>\n",
       "    <tr>\n",
       "      <th>0</th>\n",
       "      <td>OAS2_0001</td>\n",
       "      <td>OAS2_0001_MR1</td>\n",
       "      <td>Nondemented</td>\n",
       "      <td>1</td>\n",
       "      <td>0</td>\n",
       "      <td>1</td>\n",
       "      <td>1</td>\n",
       "      <td>87</td>\n",
       "      <td>14</td>\n",
       "      <td>2.0</td>\n",
       "      <td>27.0</td>\n",
       "      <td>0.0</td>\n",
       "      <td>1986.550000</td>\n",
       "      <td>0.696106</td>\n",
       "      <td>0.883440</td>\n",
       "    </tr>\n",
       "    <tr>\n",
       "      <th>1</th>\n",
       "      <td>OAS2_0001</td>\n",
       "      <td>OAS2_0001_MR2</td>\n",
       "      <td>Nondemented</td>\n",
       "      <td>2</td>\n",
       "      <td>457</td>\n",
       "      <td>1</td>\n",
       "      <td>1</td>\n",
       "      <td>88</td>\n",
       "      <td>14</td>\n",
       "      <td>2.0</td>\n",
       "      <td>30.0</td>\n",
       "      <td>0.0</td>\n",
       "      <td>2004.479526</td>\n",
       "      <td>0.681062</td>\n",
       "      <td>0.875539</td>\n",
       "    </tr>\n",
       "    <tr>\n",
       "      <th>2</th>\n",
       "      <td>OAS2_0002</td>\n",
       "      <td>OAS2_0002_MR1</td>\n",
       "      <td>Demented</td>\n",
       "      <td>1</td>\n",
       "      <td>0</td>\n",
       "      <td>1</td>\n",
       "      <td>1</td>\n",
       "      <td>75</td>\n",
       "      <td>12</td>\n",
       "      <td>2.0</td>\n",
       "      <td>23.0</td>\n",
       "      <td>0.5</td>\n",
       "      <td>1678.290000</td>\n",
       "      <td>0.736336</td>\n",
       "      <td>1.045710</td>\n",
       "    </tr>\n",
       "    <tr>\n",
       "      <th>3</th>\n",
       "      <td>OAS2_0002</td>\n",
       "      <td>OAS2_0002_MR2</td>\n",
       "      <td>Demented</td>\n",
       "      <td>2</td>\n",
       "      <td>560</td>\n",
       "      <td>1</td>\n",
       "      <td>1</td>\n",
       "      <td>76</td>\n",
       "      <td>12</td>\n",
       "      <td>2.0</td>\n",
       "      <td>28.0</td>\n",
       "      <td>0.5</td>\n",
       "      <td>1737.620000</td>\n",
       "      <td>0.713402</td>\n",
       "      <td>1.010000</td>\n",
       "    </tr>\n",
       "    <tr>\n",
       "      <th>4</th>\n",
       "      <td>OAS2_0002</td>\n",
       "      <td>OAS2_0002_MR3</td>\n",
       "      <td>Demented</td>\n",
       "      <td>3</td>\n",
       "      <td>1895</td>\n",
       "      <td>1</td>\n",
       "      <td>1</td>\n",
       "      <td>80</td>\n",
       "      <td>12</td>\n",
       "      <td>2.0</td>\n",
       "      <td>22.0</td>\n",
       "      <td>0.5</td>\n",
       "      <td>1697.911134</td>\n",
       "      <td>0.701236</td>\n",
       "      <td>1.033623</td>\n",
       "    </tr>\n",
       "  </tbody>\n",
       "</table>\n",
       "</div>"
      ],
      "text/plain": [
       "  Subject ID         MRI ID        Group  Visit  MR Delay  M/F  Hand  Age  \\\n",
       "0  OAS2_0001  OAS2_0001_MR1  Nondemented      1         0    1     1   87   \n",
       "1  OAS2_0001  OAS2_0001_MR2  Nondemented      2       457    1     1   88   \n",
       "2  OAS2_0002  OAS2_0002_MR1     Demented      1         0    1     1   75   \n",
       "3  OAS2_0002  OAS2_0002_MR2     Demented      2       560    1     1   76   \n",
       "4  OAS2_0002  OAS2_0002_MR3     Demented      3      1895    1     1   80   \n",
       "\n",
       "   EDUC  SES  MMSE  CDR         eTIV      nWBV       ASF  \n",
       "0    14  2.0  27.0  0.0  1986.550000  0.696106  0.883440  \n",
       "1    14  2.0  30.0  0.0  2004.479526  0.681062  0.875539  \n",
       "2    12  2.0  23.0  0.5  1678.290000  0.736336  1.045710  \n",
       "3    12  2.0  28.0  0.5  1737.620000  0.713402  1.010000  \n",
       "4    12  2.0  22.0  0.5  1697.911134  0.701236  1.033623  "
      ]
     },
     "execution_count": 29,
     "metadata": {},
     "output_type": "execute_result"
    }
   ],
   "source": [
    "data_frame.head()"
   ]
  },
  {
   "cell_type": "code",
   "execution_count": 30,
   "id": "83eef30a",
   "metadata": {},
   "outputs": [
    {
     "name": "stdout",
     "output_type": "stream",
     "text": [
      "<class 'pandas.core.frame.DataFrame'>\n",
      "RangeIndex: 373 entries, 0 to 372\n",
      "Data columns (total 15 columns):\n",
      " #   Column      Non-Null Count  Dtype  \n",
      "---  ------      --------------  -----  \n",
      " 0   Subject ID  373 non-null    object \n",
      " 1   MRI ID      373 non-null    object \n",
      " 2   Group       373 non-null    object \n",
      " 3   Visit       373 non-null    int64  \n",
      " 4   MR Delay    373 non-null    int64  \n",
      " 5   M/F         373 non-null    int64  \n",
      " 6   Hand        373 non-null    int64  \n",
      " 7   Age         373 non-null    int64  \n",
      " 8   EDUC        373 non-null    int64  \n",
      " 9   SES         373 non-null    float64\n",
      " 10  MMSE        373 non-null    float64\n",
      " 11  CDR         373 non-null    float64\n",
      " 12  eTIV        373 non-null    float64\n",
      " 13  nWBV        373 non-null    float64\n",
      " 14  ASF         373 non-null    float64\n",
      "dtypes: float64(6), int64(6), object(3)\n",
      "memory usage: 43.8+ KB\n"
     ]
    }
   ],
   "source": [
    "data_frame.info()"
   ]
  },
  {
   "cell_type": "markdown",
   "id": "3b414f96",
   "metadata": {},
   "source": [
    "#### New dataframe for male female group with Unique Subject ID "
   ]
  },
  {
   "cell_type": "code",
   "execution_count": 31,
   "id": "526772b5",
   "metadata": {},
   "outputs": [],
   "source": [
    "data_frame_new = data_frame.groupby(['M/F','Group'])\n"
   ]
  },
  {
   "cell_type": "code",
   "execution_count": 32,
   "id": "219155a0",
   "metadata": {},
   "outputs": [],
   "source": [
    "data_frame_new = data_frame_new.agg({'Subject ID':'nunique'})"
   ]
  },
  {
   "cell_type": "code",
   "execution_count": 33,
   "id": "e45d7d44",
   "metadata": {},
   "outputs": [
    {
     "data": {
      "text/html": [
       "<div>\n",
       "<style scoped>\n",
       "    .dataframe tbody tr th:only-of-type {\n",
       "        vertical-align: middle;\n",
       "    }\n",
       "\n",
       "    .dataframe tbody tr th {\n",
       "        vertical-align: top;\n",
       "    }\n",
       "\n",
       "    .dataframe thead th {\n",
       "        text-align: right;\n",
       "    }\n",
       "</style>\n",
       "<table border=\"1\" class=\"dataframe\">\n",
       "  <thead>\n",
       "    <tr style=\"text-align: right;\">\n",
       "      <th></th>\n",
       "      <th></th>\n",
       "      <th>Subject ID</th>\n",
       "    </tr>\n",
       "    <tr>\n",
       "      <th>M/F</th>\n",
       "      <th>Group</th>\n",
       "      <th></th>\n",
       "    </tr>\n",
       "  </thead>\n",
       "  <tbody>\n",
       "    <tr>\n",
       "      <th rowspan=\"2\" valign=\"top\">0</th>\n",
       "      <th>Demented</th>\n",
       "      <td>38</td>\n",
       "    </tr>\n",
       "    <tr>\n",
       "      <th>Nondemented</th>\n",
       "      <td>50</td>\n",
       "    </tr>\n",
       "    <tr>\n",
       "      <th rowspan=\"2\" valign=\"top\">1</th>\n",
       "      <th>Demented</th>\n",
       "      <td>40</td>\n",
       "    </tr>\n",
       "    <tr>\n",
       "      <th>Nondemented</th>\n",
       "      <td>22</td>\n",
       "    </tr>\n",
       "  </tbody>\n",
       "</table>\n",
       "</div>"
      ],
      "text/plain": [
       "                 Subject ID\n",
       "M/F Group                  \n",
       "0   Demented             38\n",
       "    Nondemented          50\n",
       "1   Demented             40\n",
       "    Nondemented          22"
      ]
     },
     "execution_count": 33,
     "metadata": {},
     "output_type": "execute_result"
    }
   ],
   "source": [
    "data_frame_new.head()"
   ]
  },
  {
   "cell_type": "code",
   "execution_count": 34,
   "id": "55eb9c91",
   "metadata": {},
   "outputs": [
    {
     "data": {
      "text/plain": [
       "<AxesSubplot:>"
      ]
     },
     "execution_count": 34,
     "metadata": {},
     "output_type": "execute_result"
    },
    {
     "data": {
      "image/png": "[encoded data removed]",
      "text/plain": [
       "<Figure size 1008x720 with 2 Axes>"
      ]
     },
     "metadata": {
      "needs_background": "light"
     },
     "output_type": "display_data"
    }
   ],
   "source": [
    "import matplotlib.pyplot as plt\n",
    "import seaborn as sns\n",
    "\n",
    "plt.figure(figsize = (14,10))\n",
    "\n",
    "sns.heatmap(data_frame[data_frame.columns].corr(), annot=True)"
   ]
  },
  {
   "cell_type": "code",
   "execution_count": 35,
   "id": "54aec8f1",
   "metadata": {},
   "outputs": [
    {
     "data": {
      "image/png": "[encoded data removed]",
      "text/plain": [
       "<Figure size 864x720 with 6 Axes>"
      ]
     },
     "metadata": {
      "needs_background": "light"
     },
     "output_type": "display_data"
    }
   ],
   "source": [
    "fig,axs = plt.subplots(2,3,figsize =(12,10))\n",
    "boxplot_mrdelay = data_frame.boxplot(column=['MR Delay'], rot=15, widths=.75,fontsize=12,color = 'red',ax=axs[0,0])\n",
    "boxplot_visit =data_frame.boxplot(column=['Visit'], rot=15, fontsize=12,widths=.75,color = 'blue',ax=axs[0,1])\n",
    "boxplot_eTIV = data_frame.boxplot(column=['eTIV'], rot=15, fontsize=12,widths=.75,color = 'crimson',ax=axs[0,2])\n",
    "boxplot_nWBV = data_frame.boxplot(column=['nWBV'], rot=15, fontsize=12,widths=.75,color = 'hotpink',ax=axs[1,0])\n",
    "boxplot_ASF = data_frame.boxplot(column=['ASF'], rot=15, fontsize=12,widths=.75,color = 'purple',ax=axs[1,1])\n",
    "boxplot_MF = data_frame.boxplot(column=['M/F'], rot=15, fontsize=12,widths=.75,color = 'green',ax=axs[1,2])\n",
    "\n",
    "plt.show()"
   ]
  },
  {
   "cell_type": "markdown",
   "id": "951ea78a",
   "metadata": {},
   "source": [
    "#### Target value, response variable or dependent variable"
   ]
  },
  {
   "cell_type": "code",
   "execution_count": 36,
   "id": "043eaa9d",
   "metadata": {},
   "outputs": [],
   "source": [
    "y_data = data_frame['Group']"
   ]
  },
  {
   "cell_type": "code",
   "execution_count": 37,
   "id": "6c631be1",
   "metadata": {},
   "outputs": [
    {
     "data": {
      "text/plain": [
       "0    Nondemented\n",
       "1    Nondemented\n",
       "2       Demented\n",
       "3       Demented\n",
       "4       Demented\n",
       "Name: Group, dtype: object"
      ]
     },
     "execution_count": 37,
     "metadata": {},
     "output_type": "execute_result"
    }
   ],
   "source": [
    "y_data[0:5]"
   ]
  },
  {
   "cell_type": "code",
   "execution_count": 38,
   "id": "0234108e",
   "metadata": {},
   "outputs": [
    {
     "data": {
      "text/html": [
       "<div>\n",
       "<style scoped>\n",
       "    .dataframe tbody tr th:only-of-type {\n",
       "        vertical-align: middle;\n",
       "    }\n",
       "\n",
       "    .dataframe tbody tr th {\n",
       "        vertical-align: top;\n",
       "    }\n",
       "\n",
       "    .dataframe thead th {\n",
       "        text-align: right;\n",
       "    }\n",
       "</style>\n",
       "<table border=\"1\" class=\"dataframe\">\n",
       "  <thead>\n",
       "    <tr style=\"text-align: right;\">\n",
       "      <th></th>\n",
       "      <th>Visit</th>\n",
       "      <th>MR Delay</th>\n",
       "      <th>M/F</th>\n",
       "      <th>Hand</th>\n",
       "      <th>Age</th>\n",
       "      <th>EDUC</th>\n",
       "      <th>SES</th>\n",
       "      <th>MMSE</th>\n",
       "      <th>CDR</th>\n",
       "      <th>eTIV</th>\n",
       "      <th>nWBV</th>\n",
       "      <th>ASF</th>\n",
       "    </tr>\n",
       "  </thead>\n",
       "  <tbody>\n",
       "    <tr>\n",
       "      <th>0</th>\n",
       "      <td>1</td>\n",
       "      <td>0</td>\n",
       "      <td>1</td>\n",
       "      <td>1</td>\n",
       "      <td>87</td>\n",
       "      <td>14</td>\n",
       "      <td>2.0</td>\n",
       "      <td>27.0</td>\n",
       "      <td>0.0</td>\n",
       "      <td>1986.550000</td>\n",
       "      <td>0.696106</td>\n",
       "      <td>0.883440</td>\n",
       "    </tr>\n",
       "    <tr>\n",
       "      <th>1</th>\n",
       "      <td>2</td>\n",
       "      <td>457</td>\n",
       "      <td>1</td>\n",
       "      <td>1</td>\n",
       "      <td>88</td>\n",
       "      <td>14</td>\n",
       "      <td>2.0</td>\n",
       "      <td>30.0</td>\n",
       "      <td>0.0</td>\n",
       "      <td>2004.479526</td>\n",
       "      <td>0.681062</td>\n",
       "      <td>0.875539</td>\n",
       "    </tr>\n",
       "    <tr>\n",
       "      <th>2</th>\n",
       "      <td>1</td>\n",
       "      <td>0</td>\n",
       "      <td>1</td>\n",
       "      <td>1</td>\n",
       "      <td>75</td>\n",
       "      <td>12</td>\n",
       "      <td>2.0</td>\n",
       "      <td>23.0</td>\n",
       "      <td>0.5</td>\n",
       "      <td>1678.290000</td>\n",
       "      <td>0.736336</td>\n",
       "      <td>1.045710</td>\n",
       "    </tr>\n",
       "    <tr>\n",
       "      <th>3</th>\n",
       "      <td>2</td>\n",
       "      <td>560</td>\n",
       "      <td>1</td>\n",
       "      <td>1</td>\n",
       "      <td>76</td>\n",
       "      <td>12</td>\n",
       "      <td>2.0</td>\n",
       "      <td>28.0</td>\n",
       "      <td>0.5</td>\n",
       "      <td>1737.620000</td>\n",
       "      <td>0.713402</td>\n",
       "      <td>1.010000</td>\n",
       "    </tr>\n",
       "    <tr>\n",
       "      <th>4</th>\n",
       "      <td>3</td>\n",
       "      <td>1895</td>\n",
       "      <td>1</td>\n",
       "      <td>1</td>\n",
       "      <td>80</td>\n",
       "      <td>12</td>\n",
       "      <td>2.0</td>\n",
       "      <td>22.0</td>\n",
       "      <td>0.5</td>\n",
       "      <td>1697.911134</td>\n",
       "      <td>0.701236</td>\n",
       "      <td>1.033623</td>\n",
       "    </tr>\n",
       "  </tbody>\n",
       "</table>\n",
       "</div>"
      ],
      "text/plain": [
       "   Visit  MR Delay  M/F  Hand  Age  EDUC  SES  MMSE  CDR         eTIV  \\\n",
       "0      1         0    1     1   87    14  2.0  27.0  0.0  1986.550000   \n",
       "1      2       457    1     1   88    14  2.0  30.0  0.0  2004.479526   \n",
       "2      1         0    1     1   75    12  2.0  23.0  0.5  1678.290000   \n",
       "3      2       560    1     1   76    12  2.0  28.0  0.5  1737.620000   \n",
       "4      3      1895    1     1   80    12  2.0  22.0  0.5  1697.911134   \n",
       "\n",
       "       nWBV       ASF  \n",
       "0  0.696106  0.883440  \n",
       "1  0.681062  0.875539  \n",
       "2  0.736336  1.045710  \n",
       "3  0.713402  1.010000  \n",
       "4  0.701236  1.033623  "
      ]
     },
     "execution_count": 38,
     "metadata": {},
     "output_type": "execute_result"
    }
   ],
   "source": [
    "# Independent variable or regressor as X\n",
    "# drop unrelated values\n",
    "X_data = data_frame.drop(['Subject ID','MRI ID','Group'], axis=1)\n",
    "X_data.head()"
   ]
  },
  {
   "cell_type": "markdown",
   "id": "c943414e",
   "metadata": {},
   "source": [
    "### Train and Test Split"
   ]
  },
  {
   "cell_type": "code",
   "execution_count": 39,
   "id": "c121740a",
   "metadata": {},
   "outputs": [
    {
     "name": "stdout",
     "output_type": "stream",
     "text": [
      "Train set: (249, 12) (249,)\n",
      "Test set: (124, 12) (124,)\n"
     ]
    }
   ],
   "source": [
    "# import train_test_split library\n",
    "from sklearn.model_selection import train_test_split \n",
    "from sklearn.metrics import accuracy_score\n",
    "from sklearn.metrics import roc_auc_score\n",
    "from sklearn.metrics import roc_curve, auc\n",
    "\n",
    "X_train,X_test, y_train, y_test = train_test_split(X_data, y_data, test_size = 0.33)\n",
    "print ('Train set:', X_train.shape,  y_train.shape)\n",
    "print ('Test set:', X_test.shape,  y_test.shape)"
   ]
  },
  {
   "cell_type": "markdown",
   "id": "0c8c5fd3",
   "metadata": {},
   "source": [
    "#### Normalize Data\n",
    "\n",
    "Data Standardization give data zero mean and unit variance"
   ]
  },
  {
   "cell_type": "code",
   "execution_count": 40,
   "id": "cc89ecaf",
   "metadata": {},
   "outputs": [
    {
     "data": {
      "text/plain": [
       "array([[-0.95706686, -0.93771494,  1.15379808,  0.        ,  1.30873772,\n",
       "        -0.20813199, -0.3944662 , -0.09706416, -0.77765291,  2.83359462,\n",
       "        -0.90181966, -2.26232493],\n",
       "       [ 0.12799678, -0.21761337,  1.15379808,  0.        ,  1.43978716,\n",
       "        -0.20813199, -0.3944662 ,  0.71958842, -0.77765291,  2.93552502,\n",
       "        -1.30741435, -2.31961167],\n",
       "       [-0.95706686, -0.93771494,  1.15379808,  0.        , -0.26385558,\n",
       "        -0.90439416, -0.3944662 , -1.18593426,  0.55905002,  1.08111854,\n",
       "         0.18280374, -1.08577527],\n",
       "       [ 0.12799678, -0.05531476,  1.15379808,  0.        , -0.13280614,\n",
       "        -0.90439416, -0.3944662 ,  0.17515337,  0.55905002,  1.41841305,\n",
       "        -0.43550978, -1.34469305],\n",
       "       [ 1.21306043,  2.04826424,  1.15379808,  0.        ,  0.39139163,\n",
       "        -0.90439416, -0.3944662 , -1.45815179,  0.55905002,  1.19266583,\n",
       "        -0.76351198, -1.17341289]])"
      ]
     },
     "execution_count": 40,
     "metadata": {},
     "output_type": "execute_result"
    }
   ],
   "source": [
    "X_data= preprocessing.StandardScaler().fit(X_data).transform(X_data)\n",
    "X_data[0:5]\n"
   ]
  },
  {
   "cell_type": "markdown",
   "id": "ed95bdf1",
   "metadata": {},
   "source": [
    "### Support Vector Machine (SVM)"
   ]
  },
  {
   "cell_type": "code",
   "execution_count": 41,
   "id": "ff76b1b8",
   "metadata": {},
   "outputs": [],
   "source": [
    "# import SVM library\n",
    "\n",
    "from sklearn import svm"
   ]
  },
  {
   "cell_type": "code",
   "execution_count": 42,
   "id": "36543734",
   "metadata": {},
   "outputs": [],
   "source": [
    "svm_clf = svm.SVC(C=1, kernel='linear').fit(X_train, y_train)"
   ]
  },
  {
   "cell_type": "code",
   "execution_count": 43,
   "id": "4d213289",
   "metadata": {},
   "outputs": [],
   "source": [
    "yhat_svm = svm_clf.predict(X_test)\n"
   ]
  },
  {
   "cell_type": "code",
   "execution_count": 44,
   "id": "b7f6c216",
   "metadata": {},
   "outputs": [
    {
     "name": "stdout",
     "output_type": "stream",
     "text": [
      "SVM_accuracy_score: 95.16129032258065\n"
     ]
    }
   ],
   "source": [
    "SVM_accuracy_score = accuracy_score(y_test,yhat_svm)*100\n",
    "print(\"SVM_accuracy_score:\", SVM_accuracy_score)"
   ]
  },
  {
   "cell_type": "code",
   "execution_count": 45,
   "id": "cbb5540a",
   "metadata": {},
   "outputs": [],
   "source": [
    "# Number of random trials\n",
    "NUM_TRIALS = 10\n",
    "\n",
    "# Arrays to store scores\n",
    "svm_nested_scores = np.zeros(NUM_TRIALS)\n",
    "\n",
    "# Set up possible values of parameters to optimize over\n",
    "p_grid = {\"C\": [1, 10, 100], \"gamma\": [0.01, 0.1]}"
   ]
  },
  {
   "cell_type": "code",
   "execution_count": 46,
   "id": "187244d8",
   "metadata": {},
   "outputs": [],
   "source": [
    "# Loop for each trial\n",
    "for i in range(NUM_TRIALS):\n",
    "\n",
    "    # cross-validation techniques for the inner and outer loops,\n",
    "    # independently of the dataset.\n",
    "    # E.g \"GroupKFold\", \"LeaveOneOut\", \"LeaveOneGroupOut\", etc.\n",
    "    \n",
    "    inner_cv = KFold(n_splits=4, shuffle=True, random_state=i)\n",
    "    outer_cv = KFold(n_splits=4, shuffle=True, random_state=i)\n",
    "\n",
    "\n",
    "\n",
    "    # Nested CV with parameter optimization\n",
    "    Nes_svmclf = GridSearchCV(estimator=svm_clf, param_grid=p_grid, cv=inner_cv)\n",
    "    \n",
    "    svm_nested_score = cross_val_score(svm_clf, X=X_data, y=y_data, cv=outer_cv)\n",
    "   "
   ]
  },
  {
   "cell_type": "code",
   "execution_count": 47,
   "id": "21d75ff2",
   "metadata": {},
   "outputs": [
    {
     "data": {
      "text/plain": [
       "0.9463509494394876"
      ]
     },
     "execution_count": 47,
     "metadata": {},
     "output_type": "execute_result"
    }
   ],
   "source": [
    "svm_nested_score = svm_nested_score.mean()\n",
    "svm_nested_score\n"
   ]
  },
  {
   "cell_type": "code",
   "execution_count": 48,
   "id": "0364ebf1",
   "metadata": {},
   "outputs": [
    {
     "name": "stdout",
     "output_type": "stream",
     "text": [
      "Accuracy: 0.946 \n"
     ]
    }
   ],
   "source": [
    "print('Accuracy: %.3f ' % (mean(svm_nested_score)))"
   ]
  },
  {
   "cell_type": "markdown",
   "id": "97c77f51",
   "metadata": {},
   "source": [
    "##### SVM Confusion matrix"
   ]
  },
  {
   "cell_type": "code",
   "execution_count": 49,
   "id": "83d6f12d",
   "metadata": {},
   "outputs": [
    {
     "data": {
      "image/png": "[encoded data removed]",
      "text/plain": [
       "<Figure size 432x288 with 2 Axes>"
      ]
     },
     "metadata": {
      "needs_background": "light"
     },
     "output_type": "display_data"
    }
   ],
   "source": [
    "#confusion_matrix(y_test,yhat_svm)\n",
    "from sklearn.metrics import confusion_matrix\n",
    "plot_confusion_matrix(svm_clf, X_test, y_test)  \n",
    "plt.show() "
   ]
  },
  {
   "cell_type": "code",
   "execution_count": 50,
   "id": "9714de3d",
   "metadata": {},
   "outputs": [
    {
     "data": {
      "text/html": [
       "<div>\n",
       "<style scoped>\n",
       "    .dataframe tbody tr th:only-of-type {\n",
       "        vertical-align: middle;\n",
       "    }\n",
       "\n",
       "    .dataframe tbody tr th {\n",
       "        vertical-align: top;\n",
       "    }\n",
       "\n",
       "    .dataframe thead th {\n",
       "        text-align: right;\n",
       "    }\n",
       "</style>\n",
       "<table border=\"1\" class=\"dataframe\">\n",
       "  <thead>\n",
       "    <tr style=\"text-align: right;\">\n",
       "      <th>Predicted</th>\n",
       "      <th>Demented</th>\n",
       "      <th>Nondemented</th>\n",
       "      <th>All</th>\n",
       "    </tr>\n",
       "    <tr>\n",
       "      <th>True</th>\n",
       "      <th></th>\n",
       "      <th></th>\n",
       "      <th></th>\n",
       "    </tr>\n",
       "  </thead>\n",
       "  <tbody>\n",
       "    <tr>\n",
       "      <th>Demented</th>\n",
       "      <td>54</td>\n",
       "      <td>6</td>\n",
       "      <td>60</td>\n",
       "    </tr>\n",
       "    <tr>\n",
       "      <th>Nondemented</th>\n",
       "      <td>0</td>\n",
       "      <td>64</td>\n",
       "      <td>64</td>\n",
       "    </tr>\n",
       "    <tr>\n",
       "      <th>All</th>\n",
       "      <td>54</td>\n",
       "      <td>70</td>\n",
       "      <td>124</td>\n",
       "    </tr>\n",
       "  </tbody>\n",
       "</table>\n",
       "</div>"
      ],
      "text/plain": [
       "Predicted    Demented  Nondemented  All\n",
       "True                                   \n",
       "Demented           54            6   60\n",
       "Nondemented         0           64   64\n",
       "All                54           70  124"
      ]
     },
     "execution_count": 50,
     "metadata": {},
     "output_type": "execute_result"
    }
   ],
   "source": [
    "# Confusion matrix using crosstab method of pandas.\n",
    "svm_pd = pd.crosstab(y_test, yhat_svm, rownames=['True'], colnames=['Predicted'], margins=True)\n",
    "svm_pd"
   ]
  },
  {
   "cell_type": "markdown",
   "id": "e014f4ef",
   "metadata": {},
   "source": [
    "##### SVM Classification Report"
   ]
  },
  {
   "cell_type": "code",
   "execution_count": 51,
   "id": "2cc07987",
   "metadata": {},
   "outputs": [
    {
     "name": "stdout",
     "output_type": "stream",
     "text": [
      "confusion matrix\n",
      " [[54  6]\n",
      " [ 0 64]]\n",
      "\n",
      "classification report\n",
      "               precision    recall  f1-score   support\n",
      "\n",
      "    Demented       1.00      0.90      0.95        60\n",
      " Nondemented       0.91      1.00      0.96        64\n",
      "\n",
      "    accuracy                           0.95       124\n",
      "   macro avg       0.96      0.95      0.95       124\n",
      "weighted avg       0.96      0.95      0.95       124\n",
      "\n",
      "Accuracy:  95.16129032258065\n"
     ]
    }
   ],
   "source": [
    "#print(classification_report(y_test,yhat_svm))\n",
    "\n",
    "print(\"confusion matrix\\n\",confusion_matrix(y_test,yhat_svm))\n",
    "print(\"\\nclassification report\\n\",classification_report(y_test,yhat_svm))\n",
    "print(\"Accuracy: \",accuracy_score(y_test, yhat_svm)*100)"
   ]
  },
  {
   "cell_type": "code",
   "execution_count": 52,
   "id": "29a181db",
   "metadata": {},
   "outputs": [
    {
     "name": "stdout",
     "output_type": "stream",
     "text": [
      "SVM_roc_auc_score: 0.9705729166666667\n"
     ]
    }
   ],
   "source": [
    "SVM_roc_auc_score = roc_auc_score(y_test, svm_clf.decision_function(X_test), average=None)\n",
    "print(\"SVM_roc_auc_score:\", SVM_roc_auc_score)"
   ]
  },
  {
   "cell_type": "code",
   "execution_count": 53,
   "id": "9e82cc35",
   "metadata": {},
   "outputs": [
    {
     "data": {
      "image/png": "[encoded data removed]",
      "text/plain": [
       "<Figure size 432x288 with 1 Axes>"
      ]
     },
     "metadata": {
      "needs_background": "light"
     },
     "output_type": "display_data"
    }
   ],
   "source": [
    " metrics.plot_roc_curve(svm_clf, X_test, y_test)  \n",
    " plt.show() "
   ]
  },
  {
   "cell_type": "markdown",
   "id": "a3935472",
   "metadata": {},
   "source": [
    "### Logistic Regression"
   ]
  },
  {
   "cell_type": "code",
   "execution_count": 54,
   "id": "e0cdda25",
   "metadata": {},
   "outputs": [],
   "source": [
    "#import Library LogisticRegression\n",
    "from sklearn.linear_model import LogisticRegression"
   ]
  },
  {
   "cell_type": "code",
   "execution_count": 55,
   "id": "71f272c9",
   "metadata": {},
   "outputs": [
    {
     "data": {
      "text/plain": [
       "LogisticRegression(C=1, solver='liblinear')"
      ]
     },
     "execution_count": 55,
     "metadata": {},
     "output_type": "execute_result"
    }
   ],
   "source": [
    "#Train\n",
    "lr_clf = LogisticRegression(C=1, solver='liblinear').fit(X_train,y_train)\n",
    "lr_clf"
   ]
  },
  {
   "cell_type": "code",
   "execution_count": 56,
   "id": "0e09ca9d",
   "metadata": {},
   "outputs": [],
   "source": [
    "yhat_lr = lr_clf.predict(X_test)\n",
    "\n",
    "lr_yhat_prob = lr_clf.predict_proba(X_test)"
   ]
  },
  {
   "cell_type": "code",
   "execution_count": 57,
   "id": "77d6287f",
   "metadata": {},
   "outputs": [
    {
     "name": "stdout",
     "output_type": "stream",
     "text": [
      "LR_accuracy_score : 95.16129032258065\n"
     ]
    }
   ],
   "source": [
    "LR_accuracy_score = accuracy_score(y_test,yhat_lr)*100\n",
    "print(\"LR_accuracy_score :\",LR_accuracy_score )"
   ]
  },
  {
   "cell_type": "markdown",
   "id": "ec761219",
   "metadata": {},
   "source": [
    "##### LR Confusion matrix"
   ]
  },
  {
   "cell_type": "code",
   "execution_count": 58,
   "id": "3c8c8547",
   "metadata": {},
   "outputs": [
    {
     "data": {
      "image/png": "[encoded data removed]",
      "text/plain": [
       "<Figure size 432x288 with 2 Axes>"
      ]
     },
     "metadata": {
      "needs_background": "light"
     },
     "output_type": "display_data"
    }
   ],
   "source": [
    "#confusion_matrix(y_test,yhat_lr)\n",
    "\n",
    "plot_confusion_matrix(lr_clf, X_test, y_test)  \n",
    "plt.show() "
   ]
  },
  {
   "cell_type": "code",
   "execution_count": 59,
   "id": "e6cf7184",
   "metadata": {},
   "outputs": [
    {
     "data": {
      "text/html": [
       "<div>\n",
       "<style scoped>\n",
       "    .dataframe tbody tr th:only-of-type {\n",
       "        vertical-align: middle;\n",
       "    }\n",
       "\n",
       "    .dataframe tbody tr th {\n",
       "        vertical-align: top;\n",
       "    }\n",
       "\n",
       "    .dataframe thead th {\n",
       "        text-align: right;\n",
       "    }\n",
       "</style>\n",
       "<table border=\"1\" class=\"dataframe\">\n",
       "  <thead>\n",
       "    <tr style=\"text-align: right;\">\n",
       "      <th>Predicted</th>\n",
       "      <th>Demented</th>\n",
       "      <th>Nondemented</th>\n",
       "      <th>All</th>\n",
       "    </tr>\n",
       "    <tr>\n",
       "      <th>True</th>\n",
       "      <th></th>\n",
       "      <th></th>\n",
       "      <th></th>\n",
       "    </tr>\n",
       "  </thead>\n",
       "  <tbody>\n",
       "    <tr>\n",
       "      <th>Demented</th>\n",
       "      <td>54</td>\n",
       "      <td>6</td>\n",
       "      <td>60</td>\n",
       "    </tr>\n",
       "    <tr>\n",
       "      <th>Nondemented</th>\n",
       "      <td>0</td>\n",
       "      <td>64</td>\n",
       "      <td>64</td>\n",
       "    </tr>\n",
       "    <tr>\n",
       "      <th>All</th>\n",
       "      <td>54</td>\n",
       "      <td>70</td>\n",
       "      <td>124</td>\n",
       "    </tr>\n",
       "  </tbody>\n",
       "</table>\n",
       "</div>"
      ],
      "text/plain": [
       "Predicted    Demented  Nondemented  All\n",
       "True                                   \n",
       "Demented           54            6   60\n",
       "Nondemented         0           64   64\n",
       "All                54           70  124"
      ]
     },
     "execution_count": 59,
     "metadata": {},
     "output_type": "execute_result"
    }
   ],
   "source": [
    "# Confusion matrix using crosstab method of pandas.\n",
    "LR_pd = pd.crosstab(y_test, yhat_lr, rownames=['True'], colnames=['Predicted'], margins=True)\n",
    "LR_pd\n"
   ]
  },
  {
   "cell_type": "markdown",
   "id": "0d939028",
   "metadata": {},
   "source": [
    "##### LR Classification Report"
   ]
  },
  {
   "cell_type": "code",
   "execution_count": 60,
   "id": "496f4956",
   "metadata": {},
   "outputs": [
    {
     "name": "stdout",
     "output_type": "stream",
     "text": [
      "confusion matrix\n",
      " [[54  6]\n",
      " [ 0 64]]\n",
      "\n",
      "classification report\n",
      "               precision    recall  f1-score   support\n",
      "\n",
      "    Demented       1.00      0.90      0.95        60\n",
      " Nondemented       0.91      1.00      0.96        64\n",
      "\n",
      "    accuracy                           0.95       124\n",
      "   macro avg       0.96      0.95      0.95       124\n",
      "weighted avg       0.96      0.95      0.95       124\n",
      "\n",
      "Accuracy:  95.16129032258065\n"
     ]
    }
   ],
   "source": [
    "#print(classification_report(y_test,yhat_lr))\n",
    "\n",
    "print(\"confusion matrix\\n\",confusion_matrix(y_test,yhat_lr))\n",
    "print(\"\\nclassification report\\n\",classification_report(y_test,yhat_lr))\n",
    "print(\"Accuracy: \",accuracy_score(y_test, yhat_lr)*100)"
   ]
  },
  {
   "cell_type": "code",
   "execution_count": 61,
   "id": "312e0ad6",
   "metadata": {},
   "outputs": [
    {
     "name": "stdout",
     "output_type": "stream",
     "text": [
      "LR_roc_auc_score : 0.9723958333333333\n"
     ]
    }
   ],
   "source": [
    "LR_roc_auc_score= roc_auc_score(y_test, lr_clf.decision_function(X_test), average=None)\n",
    "print(\"LR_roc_auc_score :\",LR_roc_auc_score )"
   ]
  },
  {
   "cell_type": "code",
   "execution_count": 62,
   "id": "fa5d103d",
   "metadata": {},
   "outputs": [
    {
     "data": {
      "image/png": "[encoded data removed]",
      "text/plain": [
       "<Figure size 432x288 with 1 Axes>"
      ]
     },
     "metadata": {
      "needs_background": "light"
     },
     "output_type": "display_data"
    }
   ],
   "source": [
    " metrics.plot_roc_curve(lr_clf, X_test, y_test)  \n",
    " plt.show() "
   ]
  },
  {
   "cell_type": "code",
   "execution_count": null,
   "id": "2a00feb5",
   "metadata": {},
   "outputs": [],
   "source": []
  },
  {
   "cell_type": "code",
   "execution_count": 63,
   "id": "2d62a442",
   "metadata": {},
   "outputs": [],
   "source": [
    "\n",
    "NUM_TRIALS = 10\n",
    "\n",
    "\n",
    "lr_nested_scores = np.zeros(NUM_TRIALS)\n",
    "\n",
    "\n",
    "p_grid = {\"C\": [1, 10, 100], \"gamma\": [0.01, 0.1]}\n",
    "\n",
    "# Loop for each trial\n",
    "for i in range(NUM_TRIALS):\n",
    "\n",
    "    #cross-validation techniques for the inner and outer loops,\n",
    "    # independently of the dataset.\n",
    "    # E.g \"GroupKFold\", \"LeaveOneOut\", \"LeaveOneGroupOut\", etc.\n",
    "    \n",
    "    inner_cv = KFold(n_splits=4, shuffle=True, random_state=i)\n",
    "    outer_cv = KFold(n_splits=4, shuffle=True, random_state=i)\n",
    "\n",
    "\n",
    "\n",
    "    # Nested CV with parameter optimization\n",
    "    Nes_lrclf = GridSearchCV(estimator=lr_clf, param_grid=p_grid, cv=inner_cv)\n",
    "    \n",
    "    lr_nested_score = cross_val_score(lr_clf, X=X_data, y=y_data, cv=outer_cv)\n",
    "    "
   ]
  },
  {
   "cell_type": "code",
   "execution_count": 64,
   "id": "16a57153",
   "metadata": {},
   "outputs": [
    {
     "data": {
      "text/plain": [
       "0.9463509494394876"
      ]
     },
     "execution_count": 64,
     "metadata": {},
     "output_type": "execute_result"
    }
   ],
   "source": [
    "lr_nested_score = lr_nested_score.mean()\n",
    "lr_nested_score"
   ]
  },
  {
   "cell_type": "code",
   "execution_count": 65,
   "id": "613447f3",
   "metadata": {},
   "outputs": [
    {
     "name": "stdout",
     "output_type": "stream",
     "text": [
      "Accuracy: 0.946 \n"
     ]
    }
   ],
   "source": [
    "print('Accuracy: %.3f ' % (mean(lr_nested_score)))"
   ]
  },
  {
   "cell_type": "markdown",
   "id": "c2dbbd78",
   "metadata": {},
   "source": [
    "### Random Forest Classifier"
   ]
  },
  {
   "cell_type": "code",
   "execution_count": 66,
   "id": "fb9e2296",
   "metadata": {},
   "outputs": [],
   "source": [
    "from sklearn.ensemble import RandomForestClassifier\n",
    "\n",
    "rf_clf = RandomForestClassifier().fit(X_train, y_train)\n",
    "rf_pred = rf_clf.predict(X_test)\n",
    "rf_yhat_prob = rf_clf.predict_proba(X_test)"
   ]
  },
  {
   "cell_type": "code",
   "execution_count": 67,
   "id": "c8e4c4b9",
   "metadata": {
    "scrolled": true
   },
   "outputs": [
    {
     "name": "stdout",
     "output_type": "stream",
     "text": [
      "confusion matrix\n",
      " [[54  6]\n",
      " [ 0 64]]\n",
      "\n",
      "classification report\n",
      "               precision    recall  f1-score   support\n",
      "\n",
      "    Demented       1.00      0.90      0.95        60\n",
      " Nondemented       0.91      1.00      0.96        64\n",
      "\n",
      "    accuracy                           0.95       124\n",
      "   macro avg       0.96      0.95      0.95       124\n",
      "weighted avg       0.96      0.95      0.95       124\n",
      "\n",
      "Accuracy:  95.16129032258065\n"
     ]
    }
   ],
   "source": [
    "from sklearn.metrics import classification_report, confusion_matrix, accuracy_score\n",
    "\n",
    "print(\"confusion matrix\\n\",confusion_matrix(y_test,rf_pred))\n",
    "print(\"\\nclassification report\\n\",classification_report(y_test,rf_pred))\n",
    "print(\"Accuracy: \",accuracy_score(y_test, rf_pred)*100)"
   ]
  },
  {
   "cell_type": "code",
   "execution_count": 68,
   "id": "1faf1881",
   "metadata": {},
   "outputs": [
    {
     "name": "stdout",
     "output_type": "stream",
     "text": [
      "RF_accuracy_score : 95.16129032258065\n"
     ]
    }
   ],
   "source": [
    "RF_accuracy_score = accuracy_score(y_test,rf_pred)*100\n",
    "print(\"RF_accuracy_score :\",RF_accuracy_score )"
   ]
  },
  {
   "cell_type": "code",
   "execution_count": 69,
   "id": "2c531ca3",
   "metadata": {},
   "outputs": [
    {
     "data": {
      "image/png": "[encoded data removed]",
      "text/plain": [
       "<Figure size 432x288 with 2 Axes>"
      ]
     },
     "metadata": {
      "needs_background": "light"
     },
     "output_type": "display_data"
    }
   ],
   "source": [
    "plot_confusion_matrix(rf_clf, X_test, y_test)  \n",
    "plt.show() "
   ]
  },
  {
   "cell_type": "code",
   "execution_count": 70,
   "id": "bcb610c1",
   "metadata": {},
   "outputs": [
    {
     "data": {
      "text/html": [
       "<div>\n",
       "<style scoped>\n",
       "    .dataframe tbody tr th:only-of-type {\n",
       "        vertical-align: middle;\n",
       "    }\n",
       "\n",
       "    .dataframe tbody tr th {\n",
       "        vertical-align: top;\n",
       "    }\n",
       "\n",
       "    .dataframe thead th {\n",
       "        text-align: right;\n",
       "    }\n",
       "</style>\n",
       "<table border=\"1\" class=\"dataframe\">\n",
       "  <thead>\n",
       "    <tr style=\"text-align: right;\">\n",
       "      <th>Predicted</th>\n",
       "      <th>Demented</th>\n",
       "      <th>Nondemented</th>\n",
       "      <th>All</th>\n",
       "    </tr>\n",
       "    <tr>\n",
       "      <th>True</th>\n",
       "      <th></th>\n",
       "      <th></th>\n",
       "      <th></th>\n",
       "    </tr>\n",
       "  </thead>\n",
       "  <tbody>\n",
       "    <tr>\n",
       "      <th>Demented</th>\n",
       "      <td>54</td>\n",
       "      <td>6</td>\n",
       "      <td>60</td>\n",
       "    </tr>\n",
       "    <tr>\n",
       "      <th>Nondemented</th>\n",
       "      <td>0</td>\n",
       "      <td>64</td>\n",
       "      <td>64</td>\n",
       "    </tr>\n",
       "    <tr>\n",
       "      <th>All</th>\n",
       "      <td>54</td>\n",
       "      <td>70</td>\n",
       "      <td>124</td>\n",
       "    </tr>\n",
       "  </tbody>\n",
       "</table>\n",
       "</div>"
      ],
      "text/plain": [
       "Predicted    Demented  Nondemented  All\n",
       "True                                   \n",
       "Demented           54            6   60\n",
       "Nondemented         0           64   64\n",
       "All                54           70  124"
      ]
     },
     "execution_count": 70,
     "metadata": {},
     "output_type": "execute_result"
    }
   ],
   "source": [
    "# Confusion matrix using crosstab method of pandas.\n",
    "RF_pd = pd.crosstab(y_test, rf_pred, rownames=['True'], colnames=['Predicted'], margins=True)\n",
    "RF_pd"
   ]
  },
  {
   "cell_type": "code",
   "execution_count": 71,
   "id": "3a65a518",
   "metadata": {},
   "outputs": [
    {
     "name": "stdout",
     "output_type": "stream",
     "text": [
      "RF roc_auc score : 0.97421875\n"
     ]
    }
   ],
   "source": [
    "RF_roc_auc_score= roc_auc_score(y_test, rf_clf.predict_proba(X_test)[:,1], average=None)\n",
    "print(\"RF roc_auc score :\",RF_roc_auc_score )\n"
   ]
  },
  {
   "cell_type": "code",
   "execution_count": 72,
   "id": "a95f7d87",
   "metadata": {
    "scrolled": true
   },
   "outputs": [
    {
     "data": {
      "image/png": "[encoded data removed]",
      "text/plain": [
       "<Figure size 432x288 with 1 Axes>"
      ]
     },
     "metadata": {
      "needs_background": "light"
     },
     "output_type": "display_data"
    }
   ],
   "source": [
    "metrics.plot_roc_curve(rf_clf, X_test, y_test)  \n",
    "    \n",
    "plt.show() "
   ]
  },
  {
   "cell_type": "code",
   "execution_count": 73,
   "id": "afe2615f",
   "metadata": {},
   "outputs": [],
   "source": [
    "\n",
    "NUM_TRIALS = 10\n",
    "\n",
    "\n",
    "rf_nested_scores = np.zeros(NUM_TRIALS)\n",
    "\n",
    "\n",
    "p_grid = {\"C\": [1, 10, 100], \"gamma\": [0.01, 0.1]}\n",
    "\n",
    "# Loop for each trial\n",
    "for i in range(NUM_TRIALS):\n",
    "\n",
    "    # Choose cross-validation techniques for the inner and outer loops,\n",
    "    # independently of the dataset.\n",
    "    # E.g \"GroupKFold\", \"LeaveOneOut\", \"LeaveOneGroupOut\", etc.\n",
    "    \n",
    "    inner_cv = KFold(n_splits=4, shuffle=True, random_state=i)\n",
    "    outer_cv = KFold(n_splits=4, shuffle=True, random_state=i)\n",
    "\n",
    "\n",
    "\n",
    "    # Nested CV with parameter optimization\n",
    "    Nes_rfclf = GridSearchCV(estimator=rf_clf, param_grid=p_grid, cv=inner_cv)\n",
    "    \n",
    "    rf_nested_score = cross_val_score(rf_clf, X=X_data, y=y_data, cv=outer_cv)\n",
    "    "
   ]
  },
  {
   "cell_type": "code",
   "execution_count": 74,
   "id": "58d3092f",
   "metadata": {},
   "outputs": [
    {
     "data": {
      "text/plain": [
       "0.9436627773964769"
      ]
     },
     "execution_count": 74,
     "metadata": {},
     "output_type": "execute_result"
    }
   ],
   "source": [
    "rf_nested_score = rf_nested_score.mean()\n",
    "rf_nested_score"
   ]
  },
  {
   "cell_type": "code",
   "execution_count": 75,
   "id": "ad4ed30c",
   "metadata": {},
   "outputs": [
    {
     "name": "stdout",
     "output_type": "stream",
     "text": [
      "Accuracy: 0.944 \n"
     ]
    }
   ],
   "source": [
    "print('Accuracy: %.3f ' % (mean(rf_nested_score)))"
   ]
  },
  {
   "cell_type": "markdown",
   "id": "9cf5046c",
   "metadata": {},
   "source": [
    "### Naive Bayes \n"
   ]
  },
  {
   "cell_type": "code",
   "execution_count": 76,
   "id": "d179988c",
   "metadata": {},
   "outputs": [],
   "source": [
    "from sklearn.naive_bayes import GaussianNB"
   ]
  },
  {
   "cell_type": "code",
   "execution_count": 77,
   "id": "6d2322f5",
   "metadata": {},
   "outputs": [],
   "source": [
    "gnb_clf = GaussianNB()"
   ]
  },
  {
   "cell_type": "code",
   "execution_count": 78,
   "id": "a06fd6ce",
   "metadata": {},
   "outputs": [],
   "source": [
    "y_pred_gnb = gnb_clf.fit(X_train, y_train).predict(X_test)"
   ]
  },
  {
   "cell_type": "code",
   "execution_count": 79,
   "id": "c5da9164",
   "metadata": {},
   "outputs": [],
   "source": [
    "#yhat_gnb = gnb.predict(X_test)\n",
    "\n",
    "gnb_yhat_prob = gnb_clf.predict_proba(X_test)"
   ]
  },
  {
   "cell_type": "code",
   "execution_count": 80,
   "id": "1baee0ab",
   "metadata": {},
   "outputs": [
    {
     "data": {
      "text/plain": [
       "95.16129032258065"
      ]
     },
     "execution_count": 80,
     "metadata": {},
     "output_type": "execute_result"
    }
   ],
   "source": [
    "gnb_Accuracy_score = metrics.accuracy_score(y_test, y_pred_gnb)*100\n",
    "gnb_Accuracy_score"
   ]
  },
  {
   "cell_type": "code",
   "execution_count": 81,
   "id": "dea81483",
   "metadata": {},
   "outputs": [
    {
     "name": "stdout",
     "output_type": "stream",
     "text": [
      "confusion matrix\n",
      " [[55  5]\n",
      " [ 1 63]]\n",
      "\n",
      "classification report\n",
      "               precision    recall  f1-score   support\n",
      "\n",
      "    Demented       0.98      0.92      0.95        60\n",
      " Nondemented       0.93      0.98      0.95        64\n",
      "\n",
      "    accuracy                           0.95       124\n",
      "   macro avg       0.95      0.95      0.95       124\n",
      "weighted avg       0.95      0.95      0.95       124\n",
      "\n",
      "Accuracy:  95.16129032258065\n"
     ]
    }
   ],
   "source": [
    "\n",
    "print(\"confusion matrix\\n\",confusion_matrix(y_test,y_pred_gnb))\n",
    "print(\"\\nclassification report\\n\",classification_report(y_test,y_pred_gnb))\n",
    "print(\"Accuracy: \",accuracy_score(y_test, y_pred_gnb)*100)"
   ]
  },
  {
   "cell_type": "code",
   "execution_count": 82,
   "id": "497e0fb3",
   "metadata": {},
   "outputs": [
    {
     "data": {
      "image/png": "[encoded data removed]",
      "text/plain": [
       "<Figure size 432x288 with 2 Axes>"
      ]
     },
     "metadata": {
      "needs_background": "light"
     },
     "output_type": "display_data"
    }
   ],
   "source": [
    "plot_confusion_matrix(gnb_clf, X_test, y_test)  \n",
    "plt.show() "
   ]
  },
  {
   "cell_type": "code",
   "execution_count": 83,
   "id": "b7945ad1",
   "metadata": {},
   "outputs": [
    {
     "data": {
      "text/html": [
       "<div>\n",
       "<style scoped>\n",
       "    .dataframe tbody tr th:only-of-type {\n",
       "        vertical-align: middle;\n",
       "    }\n",
       "\n",
       "    .dataframe tbody tr th {\n",
       "        vertical-align: top;\n",
       "    }\n",
       "\n",
       "    .dataframe thead th {\n",
       "        text-align: right;\n",
       "    }\n",
       "</style>\n",
       "<table border=\"1\" class=\"dataframe\">\n",
       "  <thead>\n",
       "    <tr style=\"text-align: right;\">\n",
       "      <th>Predicted</th>\n",
       "      <th>Demented</th>\n",
       "      <th>Nondemented</th>\n",
       "      <th>All</th>\n",
       "    </tr>\n",
       "    <tr>\n",
       "      <th>True</th>\n",
       "      <th></th>\n",
       "      <th></th>\n",
       "      <th></th>\n",
       "    </tr>\n",
       "  </thead>\n",
       "  <tbody>\n",
       "    <tr>\n",
       "      <th>Demented</th>\n",
       "      <td>55</td>\n",
       "      <td>5</td>\n",
       "      <td>60</td>\n",
       "    </tr>\n",
       "    <tr>\n",
       "      <th>Nondemented</th>\n",
       "      <td>1</td>\n",
       "      <td>63</td>\n",
       "      <td>64</td>\n",
       "    </tr>\n",
       "    <tr>\n",
       "      <th>All</th>\n",
       "      <td>56</td>\n",
       "      <td>68</td>\n",
       "      <td>124</td>\n",
       "    </tr>\n",
       "  </tbody>\n",
       "</table>\n",
       "</div>"
      ],
      "text/plain": [
       "Predicted    Demented  Nondemented  All\n",
       "True                                   \n",
       "Demented           55            5   60\n",
       "Nondemented         1           63   64\n",
       "All                56           68  124"
      ]
     },
     "execution_count": 83,
     "metadata": {},
     "output_type": "execute_result"
    }
   ],
   "source": [
    "# Confusion matrix using crosstab method of pandas.\n",
    "GNV_pd = pd.crosstab(y_test, y_pred_gnb, rownames=['True'], colnames=['Predicted'], margins=True)\n",
    "GNV_pd"
   ]
  },
  {
   "cell_type": "code",
   "execution_count": 84,
   "id": "886b1d2a",
   "metadata": {},
   "outputs": [
    {
     "data": {
      "image/png": "[encoded data removed]",
      "text/plain": [
       "<Figure size 432x288 with 1 Axes>"
      ]
     },
     "metadata": {
      "needs_background": "light"
     },
     "output_type": "display_data"
    }
   ],
   "source": [
    "metrics.plot_roc_curve(gnb_clf, X_test, y_test)  \n",
    "    \n",
    "plt.show() "
   ]
  },
  {
   "cell_type": "code",
   "execution_count": 85,
   "id": "e03ec525",
   "metadata": {},
   "outputs": [
    {
     "name": "stdout",
     "output_type": "stream",
     "text": [
      "GNB roc_auc score : 0.975\n"
     ]
    }
   ],
   "source": [
    "gnb_roc_auc_score= roc_auc_score(y_test, gnb_clf.predict_proba(X_test)[:,1], average=None)\n",
    "print(\"GNB roc_auc score :\",gnb_roc_auc_score )\n"
   ]
  },
  {
   "cell_type": "code",
   "execution_count": 86,
   "id": "96fd3edb",
   "metadata": {},
   "outputs": [],
   "source": [
    "\n",
    "NUM_TRIALS = 10\n",
    "\n",
    "gnb_nested_scores = np.zeros(NUM_TRIALS)\n",
    "\n",
    "\n",
    "p_grid = {\"C\": [1, 10, 100], \"gamma\": [0.01, 0.1]}\n",
    "\n",
    "# Loop for each trial\n",
    "for i in range(NUM_TRIALS):\n",
    "\n",
    "    # Choose cross-validation techniques for the inner and outer loops,\n",
    "    # independently of the dataset.\n",
    "    # E.g \"GroupKFold\", \"LeaveOneOut\", \"LeaveOneGroupOut\", etc.\n",
    "    \n",
    "    inner_cv = KFold(n_splits=4, shuffle=True, random_state=i)\n",
    "    outer_cv = KFold(n_splits=4, shuffle=True, random_state=i)\n",
    "\n",
    "\n",
    "\n",
    "    # Nested CV with parameter optimization\n",
    "    Nes_gnbclf = GridSearchCV(estimator=gnb_clf, param_grid=p_grid, cv=inner_cv)\n",
    "    \n",
    "    gnb_nested_score = cross_val_score(gnb_clf, X=X_data, y=y_data, cv=outer_cv)\n",
    "    \n",
    "\n"
   ]
  },
  {
   "cell_type": "code",
   "execution_count": 87,
   "id": "81c7bcca",
   "metadata": {},
   "outputs": [
    {
     "data": {
      "text/plain": [
       "0.0"
      ]
     },
     "execution_count": 87,
     "metadata": {},
     "output_type": "execute_result"
    }
   ],
   "source": [
    "gnb_nested_scores = gnb_nested_scores.mean()\n",
    "gnb_nested_scores\n"
   ]
  },
  {
   "cell_type": "code",
   "execution_count": 88,
   "id": "74e57ab3",
   "metadata": {},
   "outputs": [
    {
     "name": "stdout",
     "output_type": "stream",
     "text": [
      "Accuracy: 0.000 \n"
     ]
    }
   ],
   "source": [
    "\n",
    "print('Accuracy: %.3f ' % (mean(gnb_nested_scores)))"
   ]
  },
  {
   "cell_type": "markdown",
   "id": "27d0b29a",
   "metadata": {},
   "source": [
    "### Ada Boosting "
   ]
  },
  {
   "cell_type": "code",
   "execution_count": 89,
   "id": "84f11338",
   "metadata": {},
   "outputs": [
    {
     "data": {
      "text/plain": [
       "AdaBoostClassifier(n_estimators=100, random_state=42)"
      ]
     },
     "execution_count": 89,
     "metadata": {},
     "output_type": "execute_result"
    }
   ],
   "source": [
    "from sklearn.ensemble import AdaBoostClassifier\n",
    "\n",
    "ada_clf = AdaBoostClassifier(n_estimators=100, random_state=42)\n",
    "ada_clf.fit(X_train, y_train)\n"
   ]
  },
  {
   "cell_type": "code",
   "execution_count": 90,
   "id": "5dea263e",
   "metadata": {},
   "outputs": [],
   "source": [
    "yhat_ada = ada_clf.predict(X_test)\n",
    "\n",
    "#yhat_ada"
   ]
  },
  {
   "cell_type": "code",
   "execution_count": 91,
   "id": "16be30ef",
   "metadata": {},
   "outputs": [],
   "source": [
    "ada_yhat_prob = ada_clf.predict_proba(X_test)\n",
    "#ada_yhat_prob"
   ]
  },
  {
   "cell_type": "code",
   "execution_count": 92,
   "id": "31d34304",
   "metadata": {},
   "outputs": [
    {
     "name": "stdout",
     "output_type": "stream",
     "text": [
      "ada_accuracy_score : 92.74193548387096\n"
     ]
    }
   ],
   "source": [
    "ada_accuracy_score =accuracy_score(y_test, yhat_ada)*100\n",
    "print(\"ada_accuracy_score :\", ada_accuracy_score )\n"
   ]
  },
  {
   "cell_type": "code",
   "execution_count": 93,
   "id": "80eb6fc0",
   "metadata": {},
   "outputs": [
    {
     "name": "stdout",
     "output_type": "stream",
     "text": [
      "confusion matrix\n",
      " [[55  5]\n",
      " [ 4 60]]\n",
      "\n",
      "classification report\n",
      "               precision    recall  f1-score   support\n",
      "\n",
      "    Demented       0.93      0.92      0.92        60\n",
      " Nondemented       0.92      0.94      0.93        64\n",
      "\n",
      "    accuracy                           0.93       124\n",
      "   macro avg       0.93      0.93      0.93       124\n",
      "weighted avg       0.93      0.93      0.93       124\n",
      "\n",
      "Accuracy:  92.74193548387096\n"
     ]
    }
   ],
   "source": [
    "from sklearn.metrics import classification_report, confusion_matrix, accuracy_score\n",
    "\n",
    "print(\"confusion matrix\\n\",confusion_matrix(y_test,yhat_ada))\n",
    "print(\"\\nclassification report\\n\",classification_report(y_test,yhat_ada))\n",
    "print(\"Accuracy: \",accuracy_score(y_test, yhat_ada)*100)\n"
   ]
  },
  {
   "cell_type": "code",
   "execution_count": 94,
   "id": "c6730d15",
   "metadata": {},
   "outputs": [
    {
     "data": {
      "image/png": "[encoded data removed]",
      "text/plain": [
       "<Figure size 432x288 with 2 Axes>"
      ]
     },
     "metadata": {
      "needs_background": "light"
     },
     "output_type": "display_data"
    }
   ],
   "source": [
    "plot_confusion_matrix(ada_clf, X_test, y_test)  \n",
    "plt.show() "
   ]
  },
  {
   "cell_type": "code",
   "execution_count": 95,
   "id": "feafe447",
   "metadata": {},
   "outputs": [
    {
     "data": {
      "text/html": [
       "<div>\n",
       "<style scoped>\n",
       "    .dataframe tbody tr th:only-of-type {\n",
       "        vertical-align: middle;\n",
       "    }\n",
       "\n",
       "    .dataframe tbody tr th {\n",
       "        vertical-align: top;\n",
       "    }\n",
       "\n",
       "    .dataframe thead th {\n",
       "        text-align: right;\n",
       "    }\n",
       "</style>\n",
       "<table border=\"1\" class=\"dataframe\">\n",
       "  <thead>\n",
       "    <tr style=\"text-align: right;\">\n",
       "      <th>Predicted</th>\n",
       "      <th>Demented</th>\n",
       "      <th>Nondemented</th>\n",
       "      <th>All</th>\n",
       "    </tr>\n",
       "    <tr>\n",
       "      <th>True</th>\n",
       "      <th></th>\n",
       "      <th></th>\n",
       "      <th></th>\n",
       "    </tr>\n",
       "  </thead>\n",
       "  <tbody>\n",
       "    <tr>\n",
       "      <th>Demented</th>\n",
       "      <td>55</td>\n",
       "      <td>5</td>\n",
       "      <td>60</td>\n",
       "    </tr>\n",
       "    <tr>\n",
       "      <th>Nondemented</th>\n",
       "      <td>4</td>\n",
       "      <td>60</td>\n",
       "      <td>64</td>\n",
       "    </tr>\n",
       "    <tr>\n",
       "      <th>All</th>\n",
       "      <td>59</td>\n",
       "      <td>65</td>\n",
       "      <td>124</td>\n",
       "    </tr>\n",
       "  </tbody>\n",
       "</table>\n",
       "</div>"
      ],
      "text/plain": [
       "Predicted    Demented  Nondemented  All\n",
       "True                                   \n",
       "Demented           55            5   60\n",
       "Nondemented         4           60   64\n",
       "All                59           65  124"
      ]
     },
     "execution_count": 95,
     "metadata": {},
     "output_type": "execute_result"
    }
   ],
   "source": [
    "# Confusion matrix using crosstab method of pandas.\n",
    "ada_pd = pd.crosstab(y_test, yhat_ada, rownames=['True'], colnames=['Predicted'], margins=True)\n",
    "ada_pd"
   ]
  },
  {
   "cell_type": "code",
   "execution_count": 96,
   "id": "88f6d1b0",
   "metadata": {},
   "outputs": [
    {
     "data": {
      "image/png": "[encoded data removed]",
      "text/plain": [
       "<Figure size 432x288 with 1 Axes>"
      ]
     },
     "metadata": {
      "needs_background": "light"
     },
     "output_type": "display_data"
    }
   ],
   "source": [
    "metrics.plot_roc_curve(ada_clf, X_test, y_test)  \n",
    "    \n",
    "plt.show() "
   ]
  },
  {
   "cell_type": "code",
   "execution_count": 97,
   "id": "5ab0b5b9",
   "metadata": {},
   "outputs": [
    {
     "name": "stdout",
     "output_type": "stream",
     "text": [
      "ada_roc_auc_score : 0.95546875\n"
     ]
    }
   ],
   "source": [
    "ada_roc_auc_score= roc_auc_score(y_test, ada_clf.decision_function(X_test), average=None)\n",
    "print(\"ada_roc_auc_score :\",ada_roc_auc_score )"
   ]
  },
  {
   "cell_type": "code",
   "execution_count": 98,
   "id": "f4c11d03",
   "metadata": {},
   "outputs": [],
   "source": [
    "\n",
    "NUM_TRIALS = 10\n",
    "\n",
    "\n",
    "ada_nested_scores = np.zeros(NUM_TRIALS)\n",
    "\n",
    "\n",
    "p_grid = {\"C\": [1, 10, 100], \"gamma\": [0.01, 0.1]}\n",
    "\n",
    "# Loop for each trial\n",
    "for i in range(NUM_TRIALS):\n",
    "\n",
    "    #  cross-validation techniques for the inner and outer loops,\n",
    "    # independently of the dataset.\n",
    "    # E.g \"GroupKFold\", \"LeaveOneOut\", \"LeaveOneGroupOut\", etc.\n",
    "    \n",
    "    inner_cv = KFold(n_splits=4, shuffle=True, random_state=i)\n",
    "    outer_cv = KFold(n_splits=4, shuffle=True, random_state=i)\n",
    "\n",
    "\n",
    "    # Nested CV with parameter optimization\n",
    "    Nes_adaclf = GridSearchCV(estimator=ada_clf, param_grid=p_grid, cv=inner_cv)\n",
    "    \n",
    "    ada_nested_score = cross_val_score(ada_clf, X=X_data, y=y_data, cv=outer_cv)\n",
    "    \n",
    "\n"
   ]
  },
  {
   "cell_type": "code",
   "execution_count": 99,
   "id": "26177f62",
   "metadata": {},
   "outputs": [
    {
     "data": {
      "text/plain": [
       "0.9302505147563487"
      ]
     },
     "execution_count": 99,
     "metadata": {},
     "output_type": "execute_result"
    }
   ],
   "source": [
    "ada_nested_score = ada_nested_score.mean()\n",
    "ada_nested_score"
   ]
  },
  {
   "cell_type": "code",
   "execution_count": 100,
   "id": "4112c25b",
   "metadata": {},
   "outputs": [
    {
     "name": "stdout",
     "output_type": "stream",
     "text": [
      "Accuracy: 0.930 \n"
     ]
    }
   ],
   "source": [
    "print('Accuracy: %.3f ' % (mean(ada_nested_score)))"
   ]
  },
  {
   "cell_type": "markdown",
   "id": "ef72671f",
   "metadata": {},
   "source": [
    "### Gradient boosting "
   ]
  },
  {
   "cell_type": "code",
   "execution_count": 101,
   "id": "999a0452",
   "metadata": {},
   "outputs": [],
   "source": [
    "from sklearn.ensemble import GradientBoostingClassifier"
   ]
  },
  {
   "cell_type": "code",
   "execution_count": 102,
   "id": "14988e1a",
   "metadata": {},
   "outputs": [],
   "source": [
    "Gra_clf = GradientBoostingClassifier(n_estimators=100, learning_rate=1.0,\n",
    "                                     max_depth=1, random_state=0).fit(X_train, y_train)\n"
   ]
  },
  {
   "cell_type": "code",
   "execution_count": 103,
   "id": "d0d1d65a",
   "metadata": {},
   "outputs": [
    {
     "data": {
      "text/plain": [
       "0.9193548387096774"
      ]
     },
     "execution_count": 103,
     "metadata": {},
     "output_type": "execute_result"
    }
   ],
   "source": [
    "Gra_clf.score(X_test, y_test)"
   ]
  },
  {
   "cell_type": "code",
   "execution_count": 104,
   "id": "c702f8cf",
   "metadata": {},
   "outputs": [],
   "source": [
    "yhat_Gra_cl = Gra_clf.predict(X_test)\n",
    "\n",
    "Gra_yhat_prob = Gra_clf.predict_proba(X_test)"
   ]
  },
  {
   "cell_type": "code",
   "execution_count": 105,
   "id": "e65f8c4a",
   "metadata": {},
   "outputs": [
    {
     "name": "stdout",
     "output_type": "stream",
     "text": [
      "gra_accuracy_score : 91.93548387096774\n"
     ]
    }
   ],
   "source": [
    "\n",
    "gra_accuracy_score = Gra_clf.score(X_test, y_test)*100\n",
    "print(\"gra_accuracy_score :\", gra_accuracy_score )"
   ]
  },
  {
   "cell_type": "code",
   "execution_count": 106,
   "id": "0f3bdd4a",
   "metadata": {},
   "outputs": [
    {
     "name": "stdout",
     "output_type": "stream",
     "text": [
      "confusion matrix\n",
      " [[55  5]\n",
      " [ 5 59]]\n",
      "\n",
      "classification report\n",
      "               precision    recall  f1-score   support\n",
      "\n",
      "    Demented       0.92      0.92      0.92        60\n",
      " Nondemented       0.92      0.92      0.92        64\n",
      "\n",
      "    accuracy                           0.92       124\n",
      "   macro avg       0.92      0.92      0.92       124\n",
      "weighted avg       0.92      0.92      0.92       124\n",
      "\n",
      "Accuracy:  91.93548387096774\n"
     ]
    }
   ],
   "source": [
    "\n",
    "\n",
    "print(\"confusion matrix\\n\",confusion_matrix(y_test,yhat_Gra_cl))\n",
    "print(\"\\nclassification report\\n\",classification_report(y_test,yhat_Gra_cl))\n",
    "print(\"Accuracy: \",accuracy_score(y_test, yhat_Gra_cl)*100)"
   ]
  },
  {
   "cell_type": "code",
   "execution_count": 107,
   "id": "646b4615",
   "metadata": {},
   "outputs": [
    {
     "data": {
      "image/png": "[encoded data removed]",
      "text/plain": [
       "<Figure size 432x288 with 2 Axes>"
      ]
     },
     "metadata": {
      "needs_background": "light"
     },
     "output_type": "display_data"
    }
   ],
   "source": [
    "plot_confusion_matrix(Gra_clf, X_test, y_test)  \n",
    "plt.show() "
   ]
  },
  {
   "cell_type": "code",
   "execution_count": 108,
   "id": "ae19ae7d",
   "metadata": {},
   "outputs": [
    {
     "data": {
      "text/html": [
       "<div>\n",
       "<style scoped>\n",
       "    .dataframe tbody tr th:only-of-type {\n",
       "        vertical-align: middle;\n",
       "    }\n",
       "\n",
       "    .dataframe tbody tr th {\n",
       "        vertical-align: top;\n",
       "    }\n",
       "\n",
       "    .dataframe thead th {\n",
       "        text-align: right;\n",
       "    }\n",
       "</style>\n",
       "<table border=\"1\" class=\"dataframe\">\n",
       "  <thead>\n",
       "    <tr style=\"text-align: right;\">\n",
       "      <th>Predicted</th>\n",
       "      <th>Demented</th>\n",
       "      <th>Nondemented</th>\n",
       "      <th>All</th>\n",
       "    </tr>\n",
       "    <tr>\n",
       "      <th>True</th>\n",
       "      <th></th>\n",
       "      <th></th>\n",
       "      <th></th>\n",
       "    </tr>\n",
       "  </thead>\n",
       "  <tbody>\n",
       "    <tr>\n",
       "      <th>Demented</th>\n",
       "      <td>55</td>\n",
       "      <td>5</td>\n",
       "      <td>60</td>\n",
       "    </tr>\n",
       "    <tr>\n",
       "      <th>Nondemented</th>\n",
       "      <td>5</td>\n",
       "      <td>59</td>\n",
       "      <td>64</td>\n",
       "    </tr>\n",
       "    <tr>\n",
       "      <th>All</th>\n",
       "      <td>60</td>\n",
       "      <td>64</td>\n",
       "      <td>124</td>\n",
       "    </tr>\n",
       "  </tbody>\n",
       "</table>\n",
       "</div>"
      ],
      "text/plain": [
       "Predicted    Demented  Nondemented  All\n",
       "True                                   \n",
       "Demented           55            5   60\n",
       "Nondemented         5           59   64\n",
       "All                60           64  124"
      ]
     },
     "execution_count": 108,
     "metadata": {},
     "output_type": "execute_result"
    }
   ],
   "source": [
    "# Confusion matrix using crosstab method of pandas.\n",
    "Gra_pd = pd.crosstab(y_test, yhat_Gra_cl, rownames=['True'], colnames=['Predicted'], margins=True)\n",
    "Gra_pd"
   ]
  },
  {
   "cell_type": "code",
   "execution_count": 109,
   "id": "c7842bc4",
   "metadata": {},
   "outputs": [
    {
     "data": {
      "image/png": "[encoded data removed]",
      "text/plain": [
       "<Figure size 432x288 with 1 Axes>"
      ]
     },
     "metadata": {
      "needs_background": "light"
     },
     "output_type": "display_data"
    }
   ],
   "source": [
    "metrics.plot_roc_curve(Gra_clf, X_test, y_test)  \n",
    "    \n",
    "plt.show() "
   ]
  },
  {
   "cell_type": "code",
   "execution_count": 110,
   "id": "8c604f58",
   "metadata": {},
   "outputs": [
    {
     "name": "stdout",
     "output_type": "stream",
     "text": [
      "gra_roc_auc_score : 0.9638020833333334\n"
     ]
    }
   ],
   "source": [
    "gra_roc_auc_score= roc_auc_score(y_test, Gra_clf.decision_function(X_test), average=None)\n",
    "print(\"gra_roc_auc_score :\",gra_roc_auc_score )"
   ]
  },
  {
   "cell_type": "code",
   "execution_count": 111,
   "id": "ed12178a",
   "metadata": {},
   "outputs": [],
   "source": [
    "\n",
    "NUM_TRIALS = 10\n",
    "\n",
    "\n",
    "gra_nested_scores = np.zeros(NUM_TRIALS)\n",
    "\n",
    "\n",
    "p_grid = {\"C\": [1, 10, 100], \"gamma\": [0.01, 0.1]}\n",
    "\n",
    "\n",
    "for i in range(NUM_TRIALS):\n",
    "\n",
    "\n",
    "    \n",
    "    inner_cv = KFold(n_splits=4, shuffle=True, random_state=i)\n",
    "    outer_cv = KFold(n_splits=4, shuffle=True, random_state=i)\n",
    "\n",
    "\n",
    "\n",
    "    # Nested CV with parameter optimization\n",
    "    Nes_graclf = GridSearchCV(estimator=Gra_clf, param_grid=p_grid, cv=inner_cv)\n",
    "    \n",
    "    gra_nested_scores = cross_val_score(Gra_clf, X=X_data, y=y_data, cv=outer_cv)\n",
    "    \n"
   ]
  },
  {
   "cell_type": "code",
   "execution_count": 112,
   "id": "faab029f",
   "metadata": {},
   "outputs": [
    {
     "data": {
      "text/plain": [
       "0.9355982612674445"
      ]
     },
     "execution_count": 112,
     "metadata": {},
     "output_type": "execute_result"
    }
   ],
   "source": [
    "gra_nested_scores = gra_nested_scores.mean()\n",
    "gra_nested_scores\n"
   ]
  },
  {
   "cell_type": "code",
   "execution_count": 113,
   "id": "054400ec",
   "metadata": {},
   "outputs": [
    {
     "name": "stdout",
     "output_type": "stream",
     "text": [
      "Accuracy: 0.936 \n"
     ]
    }
   ],
   "source": [
    "print('Accuracy: %.3f ' % (mean(gra_nested_scores)))"
   ]
  },
  {
   "cell_type": "markdown",
   "id": "e32134a7",
   "metadata": {},
   "source": [
    "### Results\n",
    "#### Accuracy score report dataframe"
   ]
  },
  {
   "cell_type": "code",
   "execution_count": 114,
   "id": "0d29bf5c",
   "metadata": {},
   "outputs": [
    {
     "data": {
      "text/html": [
       "<div>\n",
       "<style scoped>\n",
       "    .dataframe tbody tr th:only-of-type {\n",
       "        vertical-align: middle;\n",
       "    }\n",
       "\n",
       "    .dataframe tbody tr th {\n",
       "        vertical-align: top;\n",
       "    }\n",
       "\n",
       "    .dataframe thead th {\n",
       "        text-align: right;\n",
       "    }\n",
       "</style>\n",
       "<table border=\"1\" class=\"dataframe\">\n",
       "  <thead>\n",
       "    <tr style=\"text-align: right;\">\n",
       "      <th>Algorithm</th>\n",
       "      <th>Accuracy Score</th>\n",
       "      <th>ROC AUC Score</th>\n",
       "      <th>Nested Score (mean)</th>\n",
       "    </tr>\n",
       "  </thead>\n",
       "  <tbody>\n",
       "    <tr>\n",
       "      <th>SVM</th>\n",
       "      <td>95.161290</td>\n",
       "      <td>0.970573</td>\n",
       "      <td>0.946351</td>\n",
       "    </tr>\n",
       "    <tr>\n",
       "      <th>Logistic Regression</th>\n",
       "      <td>95.161290</td>\n",
       "      <td>0.972396</td>\n",
       "      <td>0.946351</td>\n",
       "    </tr>\n",
       "    <tr>\n",
       "      <th>Random Forest</th>\n",
       "      <td>95.161290</td>\n",
       "      <td>0.974219</td>\n",
       "      <td>0.974219</td>\n",
       "    </tr>\n",
       "    <tr>\n",
       "      <th>Naive Bayes</th>\n",
       "      <td>95.161290</td>\n",
       "      <td>0.975000</td>\n",
       "      <td>0.000000</td>\n",
       "    </tr>\n",
       "    <tr>\n",
       "      <th>Ada Boosting</th>\n",
       "      <td>92.741935</td>\n",
       "      <td>0.955469</td>\n",
       "      <td>0.930251</td>\n",
       "    </tr>\n",
       "    <tr>\n",
       "      <th>Gradient boosting</th>\n",
       "      <td>91.935484</td>\n",
       "      <td>0.963802</td>\n",
       "      <td>0.935598</td>\n",
       "    </tr>\n",
       "  </tbody>\n",
       "</table>\n",
       "</div>"
      ],
      "text/plain": [
       "Algorithm            Accuracy Score  ROC AUC Score  Nested Score (mean)\n",
       "SVM                       95.161290       0.970573             0.946351\n",
       "Logistic Regression       95.161290       0.972396             0.946351\n",
       "Random Forest             95.161290       0.974219             0.974219\n",
       "Naive Bayes               95.161290       0.975000             0.000000\n",
       "Ada Boosting              92.741935       0.955469             0.930251\n",
       "Gradient boosting         91.935484       0.963802             0.935598"
      ]
     },
     "execution_count": 114,
     "metadata": {},
     "output_type": "execute_result"
    }
   ],
   "source": [
    "# create a accuracy list\n",
    "accuracy_score = [ SVM_accuracy_score,LR_accuracy_score,RF_accuracy_score,gnb_Accuracy_score,ada_accuracy_score,gra_accuracy_score]\n",
    "\n",
    "# create a AUC-score list\n",
    "auc_score = [SVM_roc_auc_score,LR_roc_auc_score,RF_roc_auc_score,gnb_roc_auc_score,ada_roc_auc_score,gra_roc_auc_score,]\n",
    "\n",
    "\n",
    "# create a nested-score list\n",
    "Nested_score = [svm_nested_score,lr_nested_score,RF_roc_auc_score,gnb_nested_scores,ada_nested_score,gra_nested_scores]\n",
    "\n",
    "\n",
    "# fomulate the report format\n",
    "df_report = pd.DataFrame(accuracy_score, index=['SVM','Logistic Regression','Random Forest','Naive Bayes','Ada Boosting','Gradient boosting'])\n",
    "df_report.columns = ['Accuracy Score']\n",
    "df_report.insert(loc=1, column='ROC AUC Score', value= auc_score)\n",
    "df_report.insert(loc=2, column='Nested Score (mean)', value= Nested_score)\n",
    "df_report.columns.name = 'Algorithm'\n",
    "df_report"
   ]
  },
  {
   "cell_type": "code",
   "execution_count": 115,
   "id": "463fae2a",
   "metadata": {},
   "outputs": [
    {
     "data": {
      "image/png": "[encoded data removed]",
      "text/plain": [
       "<Figure size 1008x720 with 1 Axes>"
      ]
     },
     "metadata": {
      "needs_background": "light"
     },
     "output_type": "display_data"
    }
   ],
   "source": [
    "fig = metrics.plot_roc_curve(rf_clf, X_test, y_test) \n",
    "fig = metrics.plot_roc_curve(Gra_clf, X_test, y_test,ax = fig.ax_ )\n",
    "fig = metrics.plot_roc_curve(ada_clf, X_test, y_test,ax = fig.ax_ )\n",
    "fig = metrics.plot_roc_curve(gnb_clf, X_test, y_test,ax = fig.ax_ )\n",
    "#metrics.plot_roc_curve(rf_regressor, X_test, y_test)  \n",
    "fig = metrics.plot_roc_curve(lr_clf, X_test, y_test,ax = fig.ax_ )  \n",
    "fig = metrics.plot_roc_curve(svm_clf, X_test, y_test,ax = fig.ax_ )  \n",
    "\n",
    "\n",
    "fig.figure_.suptitle(\"ROC curve comparison\")\n",
    "fig.figure_.set_size_inches(14,10)\n",
    "plt.show() "
   ]
  }
 ],
 "metadata": {
  "kernelspec": {
   "display_name": "Python 3",
   "language": "python",
   "name": "python3"
  },
  "language_info": {
   "codemirror_mode": {
    "name": "ipython",
    "version": 3
   },
   "file_extension": ".py",
   "mimetype": "text/x-python",
   "name": "python",
   "nbconvert_exporter": "python",
   "pygments_lexer": "ipython3",
   "version": "3.8.8"
  }
 },
 "nbformat": 4,
 "nbformat_minor": 5
}
